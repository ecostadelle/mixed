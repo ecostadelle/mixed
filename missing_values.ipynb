{
 "cells": [
  {
   "cell_type": "code",
   "execution_count": 1,
   "metadata": {},
   "outputs": [],
   "source": [
    "import matplotlib.pyplot as plt\n",
    "import matplotlib.colors\n",
    "import numpy as np\n",
    "import os\n",
    "import pandas as pd\n",
    "import time\n",
    "import warnings\n",
    "\n",
    "# rich\n",
    "import random\n",
    "import time\n",
    "\n",
    "from rich.live import Live\n",
    "from rich.table import Column,Table\n",
    "from rich.panel import Panel\n",
    "from rich.console import Console\n",
    "from rich import box\n",
    "\n",
    "from rich.layout import Layout\n",
    "# end rich\n",
    "\n",
    "from sklearn.metrics import roc_auc_score, accuracy_score, f1_score, confusion_matrix\n",
    "from sklearn.pipeline import make_pipeline\n",
    "from sklearn.preprocessing import KBinsDiscretizer, StandardScaler, MinMaxScaler, Normalizer, OrdinalEncoder\n",
    "from sklearn.naive_bayes import CategoricalNB\n",
    "from sklearn.tree import DecisionTreeClassifier\n",
    "from sklearn.dummy import DummyClassifier\n",
    "\n",
    "from tableshift import get_dataset\n",
    "from tableshift.core.features import PreprocessorConfig\n",
    "from tableshift.core.tasks import get_task_config\n",
    "\n",
    "from ud_bagging import UDBaggingClassifier, balanced_weight_vector\n",
    "from ud_naive_bayes import InterpretableBernoulliNB, InterpretableMultinomialNB, InterpretableCategoricalNB"
   ]
  },
  {
   "cell_type": "code",
   "execution_count": 2,
   "metadata": {},
   "outputs": [],
   "source": [
    "data = [\n",
    "    [ 'ASSISTments',             'assistments'             ],\n",
    "    [ 'Childhood Lead',          'nhanes_lead'             ],\n",
    "    [ 'College Scorecard',       'college_scorecard'       ], \n",
    "    [ 'Diabetes',                'brfss_diabetes'          ],\n",
    "    [ 'FICO HELOC',              'heloc'                   ],\n",
    "    [ 'Food Stamps',             'acsfoodstamps'           ],\n",
    "    [ 'Hospital Readmission',    'diabetes_readmission'    ],    \n",
    "    [ 'Hypertension',            'brfss_blood_pressure'    ],    \n",
    "    #[ 'ICU Length of Stay'       'mimic_extract_los_3'     ],    \n",
    "    #[ 'ICU Mortality',           'mimic_extract_mort_hosp' ],        \n",
    "    [ 'Income',                  'acsincome'               ],\n",
    "    #[ 'Public Health Insurance', 'acspubcov'               ],\n",
    "    [ 'Sepsis',                  'physionet'               ],\n",
    "    [ 'Unemployment',            'acsunemployment'         ],\n",
    "    [ 'Voting',                  'anes'                    ]\n",
    "    ]\n",
    "\n",
    "warnings.filterwarnings(\"ignore\")\n",
    "\n",
    "dataset,identifier = data[2]"
   ]
  },
  {
   "cell_type": "code",
   "execution_count": 3,
   "metadata": {},
   "outputs": [],
   "source": [
    "\n",
    "dset = get_dataset(\n",
    "    cache_dir = '../tableshift/tmp',\n",
    "    name=identifier,\n",
    "    initialize_data=False,\n",
    "    use_cached=True\n",
    ")\n",
    "\n",
    "X_a, y_a, _, _ = dset.get_pandas('train')\n",
    "X_id, y_id, _, _ = dset.get_pandas('id_test')\n",
    "X_b, y_b, _, _ = dset.get_pandas('ood_test')\n"
   ]
  },
  {
   "cell_type": "code",
   "execution_count": 15,
   "metadata": {},
   "outputs": [
    {
     "data": {
      "text/plain": [
       "array(['ASSISTments', 'Childhood Lead', 'College Scorecard', 'Diabetes',\n",
       "       'FICO HELOC', 'Food Stamps', 'Hospital Readmission',\n",
       "       'Hypertension', 'Income', 'Sepsis', 'Unemployment', 'Voting'],\n",
       "      dtype='<U20')"
      ]
     },
     "execution_count": 15,
     "metadata": {},
     "output_type": "execute_result"
    }
   ],
   "source": [
    "np.array(data)[:,0]"
   ]
  },
  {
   "cell_type": "code",
   "execution_count": 11,
   "metadata": {},
   "outputs": [],
   "source": [
    "cols = ['Dataset', 'ID', 'OOD', 'S1', 'S2', 'S3', 'S4']\n",
    "\n",
    "df_result = pd.DataFrame(index=np.array(data)[:,1], columns=cols)\n",
    "\n",
    "df_result.Dataset = np.array(data)[:,0]\n",
    "\n",
    "df_result.style.apply( , subset=cols[2:], )"
   ]
  },
  {
   "cell_type": "code",
   "execution_count": 21,
   "metadata": {},
   "outputs": [
    {
     "data": {
      "text/plain": [
       "['OOD', 'S1', 'S2', 'S3', 'S4']"
      ]
     },
     "execution_count": 21,
     "metadata": {},
     "output_type": "execute_result"
    }
   ],
   "source": [
    "cols[2:]"
   ]
  },
  {
   "cell_type": "code",
   "execution_count": 5,
   "metadata": {},
   "outputs": [
    {
     "name": "stdout",
     "output_type": "stream",
     "text": [
      "/home/fslab/github/mixed/.venv/lib/python3.9/site-packages/ipykernel_launcher.py\n"
     ]
    }
   ],
   "source": [
    "import sys\n",
    "print(sys.argv[0])"
   ]
  },
  {
   "cell_type": "code",
   "execution_count": 20,
   "metadata": {},
   "outputs": [
    {
     "name": "stdout",
     "output_type": "stream",
     "text": [
      "\\begin{table}\n",
      "\\centering\n",
      "\\caption[table]{Accuracy for Model Adaptation with balanced ensemble of Categorical \\textit{Na\\\"ive} Bayes}\n",
      "\\begin{tabular}{lrrrrrr}\n",
      "\\toprule\n",
      "             Dataset & ID & OOD & S1 & S2 & S3 & S4 \\\\\n",
      "\\midrule\n",
      "         ASSISTments &    &     &    &    &    &    \\\\\n",
      "      Childhood Lead &    &     &    &    &    &    \\\\\n",
      "   College Scorecard &    &     &    &    &    &    \\\\\n",
      "            Diabetes &    &     &    &    &    &    \\\\\n",
      "          FICO HELOC &    &     &    &    &    &    \\\\\n",
      "         Food Stamps &    &     &    &    &    &    \\\\\n",
      "Hospital Readmission &    &     &    &    &    &    \\\\\n",
      "        Hypertension &    &     &    &    &    &    \\\\\n",
      "              Income &    &     &    &    &    &    \\\\\n",
      "              Sepsis &    &     &    &    &    &    \\\\\n",
      "        Unemployment &    &     &    &    &    &    \\\\\n",
      "              Voting &    &     &    &    &    &    \\\\\n",
      "\\bottomrule\n",
      "\\end{tabular}\n",
      "\\end{table}\n",
      "\n"
     ]
    }
   ],
   "source": [
    "print(df_result.to_latex(\n",
    "    float_format=\"%.03f\",\n",
    "    index=False,\n",
    "    na_rep='',\n",
    "    column_format='lrrrrrr',\n",
    "    \n",
    "))"
   ]
  },
  {
   "cell_type": "code",
   "execution_count": 12,
   "metadata": {},
   "outputs": [
    {
     "data": {
      "text/html": [
       "<div>\n",
       "<style scoped>\n",
       "    .dataframe tbody tr th:only-of-type {\n",
       "        vertical-align: middle;\n",
       "    }\n",
       "\n",
       "    .dataframe tbody tr th {\n",
       "        vertical-align: top;\n",
       "    }\n",
       "\n",
       "    .dataframe thead th {\n",
       "        text-align: right;\n",
       "    }\n",
       "</style>\n",
       "<table border=\"1\" class=\"dataframe\">\n",
       "  <thead>\n",
       "    <tr style=\"text-align: right;\">\n",
       "      <th></th>\n",
       "      <th>locale2</th>\n",
       "      <th>ACTWRMID</th>\n",
       "      <th>age_entry</th>\n",
       "    </tr>\n",
       "  </thead>\n",
       "  <tbody>\n",
       "    <tr>\n",
       "      <th>count</th>\n",
       "      <td>98556.0</td>\n",
       "      <td>98556.000000</td>\n",
       "      <td>98556.000000</td>\n",
       "    </tr>\n",
       "    <tr>\n",
       "      <th>mean</th>\n",
       "      <td>-1.0</td>\n",
       "      <td>-0.929360</td>\n",
       "      <td>11.863509</td>\n",
       "    </tr>\n",
       "    <tr>\n",
       "      <th>std</th>\n",
       "      <td>0.0</td>\n",
       "      <td>0.817806</td>\n",
       "      <td>26.395969</td>\n",
       "    </tr>\n",
       "    <tr>\n",
       "      <th>min</th>\n",
       "      <td>-1.0</td>\n",
       "      <td>-1.000000</td>\n",
       "      <td>-1.000000</td>\n",
       "    </tr>\n",
       "    <tr>\n",
       "      <th>25%</th>\n",
       "      <td>-1.0</td>\n",
       "      <td>-1.000000</td>\n",
       "      <td>-1.000000</td>\n",
       "    </tr>\n",
       "    <tr>\n",
       "      <th>50%</th>\n",
       "      <td>-1.0</td>\n",
       "      <td>-1.000000</td>\n",
       "      <td>-1.000000</td>\n",
       "    </tr>\n",
       "    <tr>\n",
       "      <th>75%</th>\n",
       "      <td>-1.0</td>\n",
       "      <td>-1.000000</td>\n",
       "      <td>1.000000</td>\n",
       "    </tr>\n",
       "    <tr>\n",
       "      <th>max</th>\n",
       "      <td>-1.0</td>\n",
       "      <td>20.000000</td>\n",
       "      <td>99.000000</td>\n",
       "    </tr>\n",
       "  </tbody>\n",
       "</table>\n",
       "</div>"
      ],
      "text/plain": [
       "       locale2      ACTWRMID     age_entry\n",
       "count  98556.0  98556.000000  98556.000000\n",
       "mean      -1.0     -0.929360     11.863509\n",
       "std        0.0      0.817806     26.395969\n",
       "min       -1.0     -1.000000     -1.000000\n",
       "25%       -1.0     -1.000000     -1.000000\n",
       "50%       -1.0     -1.000000     -1.000000\n",
       "75%       -1.0     -1.000000      1.000000\n",
       "max       -1.0     20.000000     99.000000"
      ]
     },
     "execution_count": 12,
     "metadata": {},
     "output_type": "execute_result"
    }
   ],
   "source": [
    "X_a[['locale2','ACTWRMID','age_entry']].describe()"
   ]
  }
 ],
 "metadata": {
  "kernelspec": {
   "display_name": ".venv",
   "language": "python",
   "name": "python3"
  },
  "language_info": {
   "codemirror_mode": {
    "name": "ipython",
    "version": 3
   },
   "file_extension": ".py",
   "mimetype": "text/x-python",
   "name": "python",
   "nbconvert_exporter": "python",
   "pygments_lexer": "ipython3",
   "version": "3.9.18"
  }
 },
 "nbformat": 4,
 "nbformat_minor": 2
}
