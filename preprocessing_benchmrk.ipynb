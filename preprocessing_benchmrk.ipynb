{
 "cells": [
  {
   "cell_type": "code",
   "execution_count": 1,
   "metadata": {},
   "outputs": [],
   "source": [
    "import numpy as np\n",
    "import pandas as pd\n",
    "\n",
    "from sklearn.preprocessing import KBinsDiscretizer, StandardScaler, MinMaxScaler, Normalizer, LabelEncoder, OrdinalEncoder\n",
    "\n",
    "from tableshift import get_dataset\n",
    "from tableshift.core.features import PreprocessorConfig\n",
    "from tableshift.core.tasks import get_task_config"
   ]
  },
  {
   "cell_type": "code",
   "execution_count": 60,
   "metadata": {},
   "outputs": [],
   "source": [
    "[f for f in features if f.name == 'problem_type'][0].value_mapping"
   ]
  },
  {
   "cell_type": "code",
   "execution_count": 61,
   "metadata": {},
   "outputs": [
    {
     "data": {
      "text/plain": [
       "245"
      ]
     },
     "execution_count": 61,
     "metadata": {},
     "output_type": "execute_result"
    }
   ],
   "source": [
    "\n",
    "len(sorted([f for f in features if f.name == 'skill_id'][0].value_mapping.items()))"
   ]
  },
  {
   "cell_type": "code",
   "execution_count": 3,
   "metadata": {},
   "outputs": [],
   "source": [
    "\n",
    "data = [\n",
    "    [ 'ASSISTments',             'assistments'             ],\n",
    "    [ 'Childhood Lead',          'nhanes_lead'             ],\n",
    "    [ 'College Scorecard',       'college_scorecard'       ], \n",
    "    [ 'Diabetes',                'brfss_diabetes'          ],\n",
    "    [ 'FICO HELOC',              'heloc'                   ],\n",
    "    [ 'Food Stamps',             'acsfoodstamps'           ],\n",
    "    [ 'Hospital Readmission',    'diabetes_readmission'    ],    \n",
    "    [ 'Hypertension',            'brfss_blood_pressure'    ],    \n",
    "    #[ 'ICU Length of Stay'       'mimic_extract_los_3'     ],    \n",
    "    #[ 'ICU Mortality',           'mimic_extract_mort_hosp' ],        \n",
    "    [ 'Income',                  'acsincome'               ],\n",
    "    #[ 'Public Health Insurance', 'acspubcov'               ],\n",
    "    [ 'Sepsis',                  'physionet'               ],\n",
    "    [ 'Unemployment',            'acsunemployment'         ],\n",
    "    [ 'Voting',                  'anes'                    ]\n",
    "    ]\n"
   ]
  },
  {
   "cell_type": "code",
   "execution_count": 13,
   "metadata": {},
   "outputs": [
    {
     "data": {
      "text/plain": [
       "array(['ASSISTments', 'Childhood Lead', 'College Scorecard', 'Diabetes',\n",
       "       'FICO HELOC', 'Food Stamps', 'Hospital Readmission',\n",
       "       'Hypertension', 'Income', 'Sepsis', 'Unemployment', 'Voting'],\n",
       "      dtype='<U20')"
      ]
     },
     "execution_count": 13,
     "metadata": {},
     "output_type": "execute_result"
    }
   ],
   "source": [
    "np.array(data)[:,0]"
   ]
  },
  {
   "cell_type": "code",
   "execution_count": 15,
   "metadata": {},
   "outputs": [
    {
     "name": "stderr",
     "output_type": "stream",
     "text": [
      "<>:1: SyntaxWarning: list indices must be integers or slices, not tuple; perhaps you missed a comma?\n",
      "<>:1: SyntaxWarning: list indices must be integers or slices, not tuple; perhaps you missed a comma?\n",
      "/tmp/ipykernel_92962/2274561500.py:1: SyntaxWarning: list indices must be integers or slices, not tuple; perhaps you missed a comma?\n",
      "  np.array([[0,1,2],[3,np.nan,2][np.nan, np.nan, 4]])\n",
      "/tmp/ipykernel_92962/2274561500.py:1: SyntaxWarning: list indices must be integers or slices, not tuple; perhaps you missed a comma?\n",
      "  np.array([[0,1,2],[3,np.nan,2][np.nan, np.nan, 4]])\n",
      "/tmp/ipykernel_92962/2274561500.py:1: SyntaxWarning: list indices must be integers or slices, not tuple; perhaps you missed a comma?\n",
      "  np.array([[0,1,2],[3,np.nan,2][np.nan, np.nan, 4]])\n"
     ]
    },
    {
     "ename": "TypeError",
     "evalue": "list indices must be integers or slices, not tuple",
     "output_type": "error",
     "traceback": [
      "\u001b[0;31m---------------------------------------------------------------------------\u001b[0m",
      "\u001b[0;31mTypeError\u001b[0m                                 Traceback (most recent call last)",
      "Cell \u001b[0;32mIn[15], line 1\u001b[0m\n\u001b[0;32m----> 1\u001b[0m np\u001b[38;5;241m.\u001b[39marray([[\u001b[38;5;241m0\u001b[39m,\u001b[38;5;241m1\u001b[39m,\u001b[38;5;241m2\u001b[39m],\u001b[43m[\u001b[49m\u001b[38;5;241;43m3\u001b[39;49m\u001b[43m,\u001b[49m\u001b[43mnp\u001b[49m\u001b[38;5;241;43m.\u001b[39;49m\u001b[43mnan\u001b[49m\u001b[43m,\u001b[49m\u001b[38;5;241;43m2\u001b[39;49m\u001b[43m]\u001b[49m\u001b[43m[\u001b[49m\u001b[43mnp\u001b[49m\u001b[38;5;241;43m.\u001b[39;49m\u001b[43mnan\u001b[49m\u001b[43m,\u001b[49m\u001b[43m \u001b[49m\u001b[43mnp\u001b[49m\u001b[38;5;241;43m.\u001b[39;49m\u001b[43mnan\u001b[49m\u001b[43m,\u001b[49m\u001b[43m \u001b[49m\u001b[38;5;241;43m4\u001b[39;49m\u001b[43m]\u001b[49m])\n",
      "\u001b[0;31mTypeError\u001b[0m: list indices must be integers or slices, not tuple"
     ]
    }
   ],
   "source": []
  },
  {
   "cell_type": "code",
   "execution_count": 8,
   "metadata": {},
   "outputs": [
    {
     "data": {
      "text/plain": [
       "{'ASSISTments': 'https://www.kaggle.com/datasets/nicolaswattiez/skillbuilder-data-2009-2010 ,https://sites.google.com/site/assistmentsdata/datasets/2012-13-school-data-with-affect',\n",
       " 'Childhood Lead': 'https://wwwn.cdc.gov/Nchs/Nhanes/',\n",
       " 'College Scorecard': None,\n",
       " 'Diabetes': None,\n",
       " 'FICO HELOC': 'Data dictionary .xslx file can be accessed after filling \\nout the data agreement at https://community.fico.com/s/explainable-machine\\n-learning-challenge ',\n",
       " 'Food Stamps': 'https://www2.census.gov/programs-surveys/acs/tech_docs/pums/data_dict/PUMS_Data_Dictionary_2019.pdf',\n",
       " 'Hospital Readmission': 'http://www.hindawi.com/journals/bmri/2014/781670/',\n",
       " 'Hypertension': None,\n",
       " 'Income': 'https://www2.census.gov/programs-surveys/acs/tech_docs/pums/data_dict/PUMS_Data_Dictionary_2014-2018.pdf',\n",
       " 'Sepsis': 'https://physionet.org/content/challenge-2019/1.0.0/physionet_challenge_2019_ccm_manuscript.pdf',\n",
       " 'Unemployment': 'https://www2.census.gov/programs-surveys/acs/tech_docs/pums/data_dict/PUMS_Data_Dictionary_2019.pdf',\n",
       " 'Voting': 'https://electionstudies.org/data-center/anes-time-series-cumulative-data-file/'}"
      ]
     },
     "execution_count": 8,
     "metadata": {},
     "output_type": "execute_result"
    }
   ],
   "source": [
    "{d: get_task_config(i).feature_list.documentation for d,i in data}"
   ]
  },
  {
   "cell_type": "code",
   "execution_count": 96,
   "metadata": {},
   "outputs": [
    {
     "name": "stdout",
     "output_type": "stream",
     "text": [
      "Diabetes {'INCOME', 'BMI5CAT', 'TOTINDA', 'CVDSTRK3', 'MEDCOST', 'STATE', 'HIGH_BLOOD_PRESS', 'CHOL_CHK_PAST_5_YEARS', 'HEALTH_COV', 'FRUIT_ONCE_PER_DAY', 'VEG_ONCE_PER_DAY', 'SMOKE100', 'MARITAL', 'EDUCA', 'RFBING5', 'CHECKUP1', 'MICHD'}\n",
      "FICO HELOC {'MaxDelq2PublicRecLast12M', 'MaxDelqEver'}\n",
      "Food Stamps {'DREM', 'FER', 'WRK', 'MAR', 'CIT', 'NWLK', 'SCHL', 'PUBCOV', 'ANC', 'NATIVITY', 'RELP', 'DEAR', 'MIL', 'DIS', 'NWLA', 'DEYE', 'ENG'}\n",
      "Hypertension {'MEDCOST', 'EMPLOY1', 'STATE', 'FRUIT_ONCE_PER_DAY', 'VEG_ONCE_PER_DAY', 'CHCOCNCR', 'SMOKE100', 'CHCSCNCR', 'RFBING5', 'TOTINDA'}\n",
      "Income {'FER', 'WRK', 'MAR', 'HINS3', 'CIT', 'NWLK', 'HINS1', 'COW', 'SCHL', 'HINS4', 'RELP', 'HINS2', 'NWLA', 'ENG'}\n",
      "Unemployment {'DREM', 'WRK', 'FER', 'MAR', 'CIT', 'ESP', 'ANC', 'NATIVITY', 'RELP', 'DEAR', 'DPHY', 'MIL', 'DIVISION', 'DIS', 'MIG', 'DEYE', 'ENG'}\n",
      "Voting {'VCF0105a', 'VCF0104'}\n"
     ]
    }
   ],
   "source": [
    "for dataset,identifier in data:\n",
    "    features = get_task_config(identifier).feature_list.features\n",
    "    categorical_features = [(f.name, f.kind.__name__) for f in features if f.kind.__name__ == 'CategoricalDtype' and not f.is_target and f.value_mapping]\n",
    "    \n",
    "    dset = get_dataset(\n",
    "        name=identifier,\n",
    "        initialize_data=False,\n",
    "        use_cached=True\n",
    "    )\n",
    "\n",
    "    X_a, y_a, _, _ = dset.get_pandas('train')\n",
    "    X_b, y_b, _, _ = dset.get_pandas('ood_test')\n",
    "\n",
    "    categorical_features_ = {name for name,kind in categorical_features if name in X_a.columns and X_a[name].dtype.name != 'object'}\n",
    "\n",
    "    if categorical_features_:\n",
    "        print(dataset, categorical_features_)"
   ]
  },
  {
   "cell_type": "code",
   "execution_count": 11,
   "metadata": {},
   "outputs": [
    {
     "name": "stdout",
     "output_type": "stream",
     "text": [
      "ASSISTments {'first_action', 'skill_id', 'bottom_hint'}\n",
      "Childhood Lead {'RIDRETH_merged'}\n",
      "Diabetes {'SEX'}\n",
      "Food Stamps {'WIF', 'HUPAC', 'RAC1P', 'SEX'}\n",
      "Hospital Readmission {'discharge_disposition_id', 'admission_type_id'}\n",
      "Hypertension {'SEX', 'PRACE1', 'DIABETES', 'POVERTY', 'AGEG5YR'}\n",
      "Income {'RAC1P', 'SEX'}\n",
      "Unemployment {'RAC1P', 'SEX'}\n"
     ]
    }
   ],
   "source": [
    "for dataset,identifier in data:\n",
    "    features = get_task_config(identifier).feature_list.features\n",
    "    hidden_categorical_features = [(f.name, f.kind.__name__) for f in features if f.kind.__name__ != 'CategoricalDtype' and not f.is_target and f.value_mapping and f.name in X_a.columns]\n",
    "    \n",
    "    dset = get_dataset(\n",
    "        name=identifier,\n",
    "        initialize_data=False,\n",
    "        use_cached=True\n",
    "    )\n",
    "\n",
    "    X_a, y_a, _, _ = dset.get_pandas('train')\n",
    "\n",
    "    new_categorical_features = {name for name,kind in hidden_categorical_features if name in X_a.columns}\n",
    "\n",
    "    if new_categorical_features:\n",
    "        print(dataset, new_categorical_features)"
   ]
  },
  {
   "cell_type": "code",
   "execution_count": 23,
   "metadata": {},
   "outputs": [
    {
     "data": {
      "text/plain": [
       "TaskConfig(data_source_cls=<class 'tableshift.core.data_source.CollegeScorecardDataSource'>, feature_list=FeatureList(features=[Feature(name='C150_4', kind=<class 'int'>, description=None, is_target=True, na_values=(), value_mapping=None, name_extended='Completion rate for first-time, full-time students at four-year institutions (150% of expected time to completion/6 years)', note=None), Feature(name='STABBR', kind=<class 'pandas.core.dtypes.dtypes.CategoricalDtype'>, description=None, is_target=False, na_values=(), value_mapping=None, name_extended='State postcode', note=None), Feature(name='AccredAgency', kind=<class 'pandas.core.dtypes.dtypes.CategoricalDtype'>, description=None, is_target=False, na_values=(), value_mapping=None, name_extended='Accreditor for institution', note=None), Feature(name='sch_deg', kind=<class 'float'>, description=None, is_target=False, na_values=(), value_mapping=None, name_extended='Predominant degree awarded (recoded 0s and 4s)', note=None), Feature(name='main', kind=<class 'pandas.core.dtypes.dtypes.CategoricalDtype'>, description=None, is_target=False, na_values=(), value_mapping=None, name_extended='Flag for main campus', note=None), Feature(name='NUMBRANCH', kind=<class 'int'>, description=None, is_target=False, na_values=(), value_mapping=None, name_extended='Number of branch campuses', note=None), Feature(name='HIGHDEG', kind=<class 'pandas.core.dtypes.dtypes.CategoricalDtype'>, description=None, is_target=False, na_values=(), value_mapping={0: 'Non-degree-granting', 1: 'Certificate degree', 2: 'Associate degree', 3: \"Bachelor's degree\", 4: 'Graduate degree'}, name_extended='Highest degree awarded', note=None), Feature(name='CONTROL', kind=<class 'pandas.core.dtypes.dtypes.CategoricalDtype'>, description=None, is_target=False, na_values=(), value_mapping=None, name_extended='Control of institution', note=None), Feature(name='region', kind=<class 'pandas.core.dtypes.dtypes.CategoricalDtype'>, description=None, is_target=False, na_values=(), value_mapping=None, name_extended='Region (IPEDS)', note=None), Feature(name='LOCALE', kind=<class 'pandas.core.dtypes.dtypes.CategoricalDtype'>, description=None, is_target=False, na_values=(), value_mapping=None, name_extended='Locale of institution', note=None), Feature(name='locale2', kind=<class 'float'>, description=None, is_target=False, na_values=(), value_mapping=None, name_extended='Degree of urbanization of institution', note=None), Feature(name='CCBASIC', kind=<class 'pandas.core.dtypes.dtypes.CategoricalDtype'>, description=None, is_target=False, na_values=(), value_mapping=None, name_extended='Carnegie Classification -- basic', note=None), Feature(name='CCSIZSET', kind=<class 'pandas.core.dtypes.dtypes.CategoricalDtype'>, description=None, is_target=False, na_values=(), value_mapping=None, name_extended='Carnegie Classification -- size and setting', note=None), Feature(name='HBCU', kind=<class 'pandas.core.dtypes.dtypes.CategoricalDtype'>, description=None, is_target=False, na_values=(), value_mapping=None, name_extended='Flag for Historically Black College and University', note=None), Feature(name='ADM_RATE', kind=<class 'float'>, description=None, is_target=False, na_values=(), value_mapping=None, name_extended='Admission rate', note=None), Feature(name='ADM_RATE_ALL', kind=<class 'float'>, description=None, is_target=False, na_values=(), value_mapping=None, name_extended='Admission rate for all campuses rolled up to the 6-digit OPE ID', note=None), Feature(name='SATVRMID', kind=<class 'float'>, description=None, is_target=False, na_values=(), value_mapping=None, name_extended='Midpoint of SAT scores at the institution (critical reading)', note=None), Feature(name='SATMTMID', kind=<class 'float'>, description=None, is_target=False, na_values=(), value_mapping=None, name_extended='Midpoint of SAT scores at the institution (math)', note=None), Feature(name='SATWRMID', kind=<class 'float'>, description=None, is_target=False, na_values=(), value_mapping=None, name_extended='Midpoint of SAT scores at the institution (writing)', note=None), Feature(name='ACTCMMID', kind=<class 'float'>, description=None, is_target=False, na_values=(), value_mapping=None, name_extended='Midpoint of the ACT cumulative score', note=None), Feature(name='ACTENMID', kind=<class 'float'>, description=None, is_target=False, na_values=(), value_mapping=None, name_extended='Midpoint of the ACT English score', note=None), Feature(name='ACTMTMID', kind=<class 'float'>, description=None, is_target=False, na_values=(), value_mapping=None, name_extended='Midpoint of the ACT math score', note=None), Feature(name='ACTWRMID', kind=<class 'float'>, description=None, is_target=False, na_values=(), value_mapping=None, name_extended='Midpoint of the ACT writing score', note=None), Feature(name='PCIP01', kind=<class 'float'>, description=None, is_target=False, na_values=(), value_mapping=None, name_extended='Percentage of degrees awarded in Agriculture, Agriculture Operations, And Related Sciences.', note=None), Feature(name='PCIP03', kind=<class 'float'>, description=None, is_target=False, na_values=(), value_mapping=None, name_extended='Percentage of degrees awarded in Natural Resources And Conservation.', note=None), Feature(name='PCIP04', kind=<class 'float'>, description=None, is_target=False, na_values=(), value_mapping=None, name_extended='Percentage of degrees awarded in Architecture And Related Services.', note=None), Feature(name='PCIP05', kind=<class 'float'>, description=None, is_target=False, na_values=(), value_mapping=None, name_extended='Percentage of degrees awarded in Area, Ethnic, Cultural, Gender, And Group Studies.', note=None), Feature(name='PCIP09', kind=<class 'float'>, description=None, is_target=False, na_values=(), value_mapping=None, name_extended='Percentage of degrees awarded in Communication, Journalism, And Related Programs.', note=None), Feature(name='PCIP10', kind=<class 'float'>, description=None, is_target=False, na_values=(), value_mapping=None, name_extended='Percentage of degrees awarded in Communications Technologies/Technicians And Support Services.', note=None), Feature(name='PCIP11', kind=<class 'float'>, description=None, is_target=False, na_values=(), value_mapping=None, name_extended='Percentage of degrees awarded in Computer And Information Sciences And Support Services.', note=None), Feature(name='PCIP12', kind=<class 'float'>, description=None, is_target=False, na_values=(), value_mapping=None, name_extended='Percentage of degrees awarded in Personal And Culinary Services.', note=None), Feature(name='PCIP13', kind=<class 'float'>, description=None, is_target=False, na_values=(), value_mapping=None, name_extended='Percentage of degrees awarded in Education.', note=None), Feature(name='PCIP14', kind=<class 'float'>, description=None, is_target=False, na_values=(), value_mapping=None, name_extended='Percentage of degrees awarded in Engineering.', note=None), Feature(name='PCIP15', kind=<class 'float'>, description=None, is_target=False, na_values=(), value_mapping=None, name_extended='Percentage of degrees awarded in Engineering Technologies And Engineering-Related Fields.', note=None), Feature(name='PCIP16', kind=<class 'float'>, description=None, is_target=False, na_values=(), value_mapping=None, name_extended='Percentage of degrees awarded in Foreign Languages, Literatures, And Linguistics.', note=None), Feature(name='PCIP19', kind=<class 'float'>, description=None, is_target=False, na_values=(), value_mapping=None, name_extended='Percentage of degrees awarded in Family And Consumer Sciences/Human Sciences.', note=None), Feature(name='PCIP22', kind=<class 'float'>, description=None, is_target=False, na_values=(), value_mapping=None, name_extended='Percentage of degrees awarded in Legal Professions And Studies.', note=None), Feature(name='PCIP23', kind=<class 'float'>, description=None, is_target=False, na_values=(), value_mapping=None, name_extended='Percentage of degrees awarded in English Language And Literature/Letters.', note=None), Feature(name='PCIP24', kind=<class 'float'>, description=None, is_target=False, na_values=(), value_mapping=None, name_extended='Percentage of degrees awarded in Liberal Arts And Sciences, General Studies And Humanities.', note=None), Feature(name='PCIP25', kind=<class 'float'>, description=None, is_target=False, na_values=(), value_mapping=None, name_extended='Percentage of degrees awarded in Library Science.', note=None), Feature(name='PCIP26', kind=<class 'float'>, description=None, is_target=False, na_values=(), value_mapping=None, name_extended='Percentage of degrees awarded in Biological And Biomedical Sciences.', note=None), Feature(name='PCIP27', kind=<class 'float'>, description=None, is_target=False, na_values=(), value_mapping=None, name_extended='Percentage of degrees awarded in Mathematics And Statistics.', note=None), Feature(name='PCIP29', kind=<class 'float'>, description=None, is_target=False, na_values=(), value_mapping=None, name_extended='Percentage of degrees awarded in Military Technologies And Applied Sciences.', note=None), Feature(name='PCIP30', kind=<class 'float'>, description=None, is_target=False, na_values=(), value_mapping=None, name_extended='Percentage of degrees awarded in Multi/Interdisciplinary Studies.', note=None), Feature(name='PCIP31', kind=<class 'float'>, description=None, is_target=False, na_values=(), value_mapping=None, name_extended='Percentage of degrees awarded in Parks, Recreation, Leisure, And Fitness Studies.', note=None), Feature(name='PCIP38', kind=<class 'float'>, description=None, is_target=False, na_values=(), value_mapping=None, name_extended='Percentage of degrees awarded in Philosophy And Religious Studies.', note=None), Feature(name='PCIP39', kind=<class 'float'>, description=None, is_target=False, na_values=(), value_mapping=None, name_extended='Percentage of degrees awarded in Theology And Religious Vocations.', note=None), Feature(name='PCIP40', kind=<class 'float'>, description=None, is_target=False, na_values=(), value_mapping=None, name_extended='Percentage of degrees awarded in Physical Sciences.', note=None), Feature(name='PCIP41', kind=<class 'float'>, description=None, is_target=False, na_values=(), value_mapping=None, name_extended='Percentage of degrees awarded in Science Technologies/Technicians.', note=None), Feature(name='PCIP42', kind=<class 'float'>, description=None, is_target=False, na_values=(), value_mapping=None, name_extended='Percentage of degrees awarded in Psychology.', note=None), Feature(name='PCIP43', kind=<class 'float'>, description=None, is_target=False, na_values=(), value_mapping=None, name_extended='Percentage of degrees awarded in Homeland Security, Law Enforcement, Firefighting And Related Protective Services.', note=None), Feature(name='PCIP44', kind=<class 'float'>, description=None, is_target=False, na_values=(), value_mapping=None, name_extended='Percentage of degrees awarded in Public Administration And Social Service Professions.', note=None), Feature(name='PCIP45', kind=<class 'float'>, description=None, is_target=False, na_values=(), value_mapping=None, name_extended='Percentage of degrees awarded in Social Sciences.', note=None), Feature(name='PCIP46', kind=<class 'float'>, description=None, is_target=False, na_values=(), value_mapping=None, name_extended='Percentage of degrees awarded in Construction Trades.', note=None), Feature(name='PCIP47', kind=<class 'float'>, description=None, is_target=False, na_values=(), value_mapping=None, name_extended='Percentage of degrees awarded in Mechanic And Repair Technologies/Technicians.', note=None), Feature(name='PCIP48', kind=<class 'float'>, description=None, is_target=False, na_values=(), value_mapping=None, name_extended='Percentage of degrees awarded in Precision Production.', note=None), Feature(name='PCIP49', kind=<class 'float'>, description=None, is_target=False, na_values=(), value_mapping=None, name_extended='Percentage of degrees awarded in Transportation And Materials Moving.', note=None), Feature(name='PCIP50', kind=<class 'float'>, description=None, is_target=False, na_values=(), value_mapping=None, name_extended='Percentage of degrees awarded in Visual And Performing Arts.', note=None), Feature(name='PCIP51', kind=<class 'float'>, description=None, is_target=False, na_values=(), value_mapping=None, name_extended='Percentage of degrees awarded in Health Professions And Related Programs.', note=None), Feature(name='PCIP52', kind=<class 'float'>, description=None, is_target=False, na_values=(), value_mapping=None, name_extended='Percentage of degrees awarded in Business, Management, Marketing, And Related Support Services.', note=None), Feature(name='PCIP54', kind=<class 'float'>, description=None, is_target=False, na_values=(), value_mapping=None, name_extended='Percentage of degrees awarded in History.', note=None), Feature(name='DISTANCEONLY', kind=<class 'pandas.core.dtypes.dtypes.CategoricalDtype'>, description=None, is_target=False, na_values=(), value_mapping=None, name_extended='Flag for distance-education-only education', note=None), Feature(name='UGDS', kind=<class 'float'>, description=None, is_target=False, na_values=(), value_mapping=None, name_extended='Enrollment of undergraduate degree-seeking students', note=None), Feature(name='UG', kind=<class 'float'>, description=None, is_target=False, na_values=(), value_mapping=None, name_extended='Enrollment of all undergraduate students', note=None), Feature(name='UGDS_WHITE', kind=<class 'float'>, description=None, is_target=False, na_values=(), value_mapping=None, name_extended='Total share of enrollment of undergraduate degree-seeking students who are white', note=None), Feature(name='UGDS_BLACK', kind=<class 'float'>, description=None, is_target=False, na_values=(), value_mapping=None, name_extended='Total share of enrollment of undergraduate degree-seeking students who are black', note=None), Feature(name='UGDS_HISP', kind=<class 'float'>, description=None, is_target=False, na_values=(), value_mapping=None, name_extended='Total share of enrollment of undergraduate degree-seeking students who are Hispanic', note=None), Feature(name='UGDS_ASIAN', kind=<class 'float'>, description=None, is_target=False, na_values=(), value_mapping=None, name_extended='Total share of enrollment of undergraduate degree-seeking students who are Asian', note=None), Feature(name='UGDS_AIAN', kind=<class 'float'>, description=None, is_target=False, na_values=(), value_mapping=None, name_extended='Total share of enrollment of undergraduate degree-seeking students who are American Indian/Alaska Native', note=None), Feature(name='UGDS_NHPI', kind=<class 'float'>, description=None, is_target=False, na_values=(), value_mapping=None, name_extended='Total share of enrollment of undergraduate degree-seeking students who are Native Hawaiian/Pacific Islander', note=None), Feature(name='UGDS_2MOR', kind=<class 'float'>, description=None, is_target=False, na_values=(), value_mapping=None, name_extended='Total share of enrollment of undergraduate degree-seeking students who are two or more races', note=None), Feature(name='UGDS_NRA', kind=<class 'float'>, description=None, is_target=False, na_values=(), value_mapping=None, name_extended='Total share of enrollment of undergraduate degree-seeking students who are non-resident aliens', note=None), Feature(name='UGDS_UNKN', kind=<class 'float'>, description=None, is_target=False, na_values=(), value_mapping=None, name_extended='Total share of enrollment of undergraduate degree-seeking students whose race is unknown', note=None), Feature(name='UGDS_WHITENH', kind=<class 'float'>, description=None, is_target=False, na_values=(), value_mapping=None, name_extended='Total share of enrollment of undergraduate degree-seeking students who are white non-Hispanic', note=None), Feature(name='UGDS_BLACKNH', kind=<class 'float'>, description=None, is_target=False, na_values=(), value_mapping=None, name_extended='Total share of enrollment of undergraduate degree-seeking students who are black non-Hispanic', note=None), Feature(name='UGDS_API', kind=<class 'float'>, description=None, is_target=False, na_values=(), value_mapping=None, name_extended='Total share of enrollment of undergraduate degree-seeking students who are Asian/Pacific Islander', note=None), Feature(name='UGDS_AIANOld', kind=<class 'float'>, description=None, is_target=False, na_values=(), value_mapping=None, name_extended='Total share of enrollment of undergraduate degree-seeking students who are American Indian/Alaska Native', note=None), Feature(name='UGDS_HISPOld', kind=<class 'float'>, description=None, is_target=False, na_values=(), value_mapping=None, name_extended='Total share of enrollment of undergraduate degree-seeking students who are Hispanic', note=None), Feature(name='UG_NRA', kind=<class 'float'>, description=None, is_target=False, na_values=(), value_mapping=None, name_extended='Total share of enrollment of undergraduate students who are non-resident aliens', note=None), Feature(name='UG_UNKN', kind=<class 'float'>, description=None, is_target=False, na_values=(), value_mapping=None, name_extended='Total share of enrollment of undergraduate students whose race is unknown', note=None), Feature(name='UG_WHITENH', kind=<class 'float'>, description=None, is_target=False, na_values=(), value_mapping=None, name_extended='Total share of enrollment of undergraduate students who are white non-Hispanic', note=None), Feature(name='UG_BLACKNH', kind=<class 'float'>, description=None, is_target=False, na_values=(), value_mapping=None, name_extended='Total share of enrollment of undergraduate students who are black non-Hispanic', note=None), Feature(name='UG_API', kind=<class 'float'>, description=None, is_target=False, na_values=(), value_mapping=None, name_extended='Total share of enrollment of undergraduate students who are Asian/Pacific Islander', note=None), Feature(name='UG_AIANOld', kind=<class 'float'>, description=None, is_target=False, na_values=(), value_mapping=None, name_extended='Total share of enrollment of undergraduate students who are American Indian/Alaska Native', note=None), Feature(name='UG_HISPOld', kind=<class 'float'>, description=None, is_target=False, na_values=(), value_mapping=None, name_extended='Total share of enrollment of undergraduate students who are Hispanic', note=None), Feature(name='PPTUG_EF', kind=<class 'float'>, description=None, is_target=False, na_values=(), value_mapping=None, name_extended='Share of undergraduate, degree-/certificate-seeking students who are part-time', note=None), Feature(name='PPTUG_EF2', kind=<class 'float'>, description=None, is_target=False, na_values=(), value_mapping=None, name_extended='Share of undergraduate, degree-/certificate-seeking students who are part-time', note=None), Feature(name='NPT4_PROG', kind=<class 'float'>, description=None, is_target=False, na_values=(), value_mapping=None, name_extended='Average net price for the largest program at the institution for program-year institutions', note=None), Feature(name='COSTT4_A', kind=<class 'float'>, description=None, is_target=False, na_values=(), value_mapping=None, name_extended='Average cost of attendance (academic year institutions)', note=None), Feature(name='COSTT4_P', kind=<class 'float'>, description=None, is_target=False, na_values=(), value_mapping=None, name_extended='Average cost of attendance (program-year institutions)', note=None), Feature(name='TUITIONFEE_IN', kind=<class 'float'>, description=None, is_target=False, na_values=(), value_mapping=None, name_extended='In-state tuition and fees', note=None), Feature(name='TUITIONFEE_OUT', kind=<class 'float'>, description=None, is_target=False, na_values=(), value_mapping=None, name_extended='Out-of-state tuition and fees', note=None), Feature(name='TUITIONFEE_PROG', kind=<class 'float'>, description=None, is_target=False, na_values=(), value_mapping=None, name_extended='Tuition and fees for program-year institutions', note=None), Feature(name='TUITFTE', kind=<class 'float'>, description=None, is_target=False, na_values=(), value_mapping=None, name_extended='Net tuition revenue per full-time equivalent student', note=None), Feature(name='INEXPFTE', kind=<class 'float'>, description=None, is_target=False, na_values=(), value_mapping=None, name_extended='Instructional expenditures per full-time equivalent student', note=None), Feature(name='AVGFACSAL', kind=<class 'float'>, description=None, is_target=False, na_values=(), value_mapping=None, name_extended='Average faculty salary', note=None), Feature(name='PFTFAC', kind=<class 'float'>, description=None, is_target=False, na_values=(), value_mapping=None, name_extended='Proportion of faculty that is full-time', note=None), Feature(name='PCTPELL', kind=<class 'float'>, description=None, is_target=False, na_values=(), value_mapping=None, name_extended='Percentage of undergraduates who receive a Pell Grant', note=None), Feature(name='loan_ever', kind=<class 'float'>, description=None, is_target=False, na_values=('PrivacySuppressed',), value_mapping=None, name_extended='Share of students who received a federal loan while in school', note=None), Feature(name='pell_ever', kind=<class 'float'>, description=None, is_target=False, na_values=('PrivacySuppressed',), value_mapping=None, name_extended='Share of students who received a Pell Grant while in school', note=None), Feature(name='age_entry', kind=<class 'float'>, description=None, is_target=False, na_values=('PrivacySuppressed',), value_mapping=None, name_extended='Average age of entry, via SSA data', note=None), Feature(name='age_entry_sq', kind=<class 'float'>, description=None, is_target=False, na_values=('PrivacySuppressed',), value_mapping=None, name_extended='Average of the age of entry squared', note=None), Feature(name='agege24', kind=<class 'float'>, description=None, is_target=False, na_values=('PrivacySuppressed',), value_mapping=None, name_extended='Percent of students over 23 at entry', note=None), Feature(name='female', kind=<class 'float'>, description=None, is_target=False, na_values=('PrivacySuppressed',), value_mapping=None, name_extended='Share of female students, via SSA data', note=None), Feature(name='married', kind=<class 'float'>, description=None, is_target=False, na_values=('PrivacySuppressed',), value_mapping=None, name_extended='Share of married students', note=None), Feature(name='dependent', kind=<class 'float'>, description=None, is_target=False, na_values=('PrivacySuppressed',), value_mapping=None, name_extended='Share of dependent students', note=None), Feature(name='veteran', kind=<class 'float'>, description=None, is_target=False, na_values=('PrivacySuppressed',), value_mapping=None, name_extended='Share of veteran students', note=None), Feature(name='first_gen', kind=<class 'float'>, description=None, is_target=False, na_values=('PrivacySuppressed',), value_mapping=None, name_extended='Share of first-generation students', note=None), Feature(name='faminc', kind=<class 'float'>, description=None, is_target=False, na_values=('PrivacySuppressed',), value_mapping=None, name_extended='Average family income', note=None), Feature(name='md_faminc', kind=<class 'float'>, description=None, is_target=False, na_values=('PrivacySuppressed',), value_mapping=None, name_extended='Median family income', note=None), Feature(name='pct_white', kind=<class 'float'>, description=None, is_target=False, na_values=('PrivacySuppressed',), value_mapping=None, name_extended=\"Percent of the population from students' zip codes that is White, via Census data\", note=None), Feature(name='pct_black', kind=<class 'float'>, description=None, is_target=False, na_values=('PrivacySuppressed',), value_mapping=None, name_extended=\"Percent of the population from students' zip codes that is Black, via Census data\", note=None), Feature(name='pct_asian', kind=<class 'float'>, description=None, is_target=False, na_values=('PrivacySuppressed',), value_mapping=None, name_extended=\"Percent of the population from students' zip codes that is Asian, via Census data\", note=None), Feature(name='pct_hispanic', kind=<class 'float'>, description=None, is_target=False, na_values=('PrivacySuppressed',), value_mapping=None, name_extended=\"Percent of the population from students' zip codes that is Hispanic, via Census data\", note=None), Feature(name='pct_ba', kind=<class 'float'>, description=None, is_target=False, na_values=('PrivacySuppressed',), value_mapping=None, name_extended=\"Percent of the population from students' zip codes with a bachelor's degree over the age 25, via Census data\", note=None), Feature(name='pct_grad_prof', kind=<class 'float'>, description=None, is_target=False, na_values=('PrivacySuppressed',), value_mapping=None, name_extended=\"Percent of the population from students' zip codes over 25 with a professional degree, via Census data\", note=None), Feature(name='pct_born_us', kind=<class 'float'>, description=None, is_target=False, na_values=('PrivacySuppressed',), value_mapping=None, name_extended=\"Percent of the population from students' zip codes that was born in the US, via Census data\", note=None), Feature(name='median_hh_inc', kind=<class 'float'>, description=None, is_target=False, na_values=('PrivacySuppressed',), value_mapping=None, name_extended='Median household income', note=None), Feature(name='poverty_rate', kind=<class 'float'>, description=None, is_target=False, na_values=('PrivacySuppressed',), value_mapping=None, name_extended='Poverty rate, via Census data', note=None), Feature(name='unemp_rate', kind=<class 'float'>, description=None, is_target=False, na_values=('PrivacySuppressed',), value_mapping=None, name_extended='Unemployment rate, via Census data', note=None)], documentation=None))"
      ]
     },
     "execution_count": 23,
     "metadata": {},
     "output_type": "execute_result"
    }
   ],
   "source": [
    "get_task_config(identifier)\n"
   ]
  },
  {
   "cell_type": "code",
   "execution_count": 15,
   "metadata": {},
   "outputs": [],
   "source": [
    "dataset,identifier = data[2]\n",
    "\n",
    "dset = get_dataset(\n",
    "    name=identifier,\n",
    "    initialize_data=False,\n",
    "    use_cached=True\n",
    ")\n",
    "\n",
    "X_a, y_a, _, _ = dset.get_pandas('train')\n",
    "X_id, y_id, _, _ = dset.get_pandas('id_test')\n",
    "X_b, y_b, _, _ = dset.get_pandas('ood_test')\n",
    "\n",
    "X_a.reset_index(drop=True, inplace=True)\n",
    "X_id.reset_index(drop=True, inplace=True)\n",
    "X_b.reset_index(drop=True, inplace=True)\n"
   ]
  },
  {
   "cell_type": "code",
   "execution_count": 16,
   "metadata": {},
   "outputs": [
    {
     "data": {
      "text/plain": [
       "STABBR               0\n",
       "AccredAgency     94977\n",
       "sch_deg          17446\n",
       "main                 0\n",
       "NUMBRANCH            0\n",
       "                 ...  \n",
       "pct_grad_prof    73754\n",
       "pct_born_us      73754\n",
       "median_hh_inc    73622\n",
       "poverty_rate     73622\n",
       "unemp_rate       73622\n",
       "Length: 118, dtype: int64"
      ]
     },
     "execution_count": 16,
     "metadata": {},
     "output_type": "execute_result"
    }
   ],
   "source": [
    "X_a.isna().sum()"
   ]
  },
  {
   "cell_type": "code",
   "execution_count": 17,
   "metadata": {},
   "outputs": [
    {
     "data": {
      "text/plain": [
       "(98556, 118)"
      ]
     },
     "execution_count": 17,
     "metadata": {},
     "output_type": "execute_result"
    }
   ],
   "source": [
    "X_a.shape"
   ]
  },
  {
   "cell_type": "code",
   "execution_count": null,
   "metadata": {},
   "outputs": [],
   "source": [
    "\n",
    "hidden_cat = {\n",
    "    f.name: f.value_mapping\n",
    "    for f in get_task_config(identifier).feature_list.features \n",
    "    if f.kind.__name__ != 'CategoricalDtype' \n",
    "    and not f.is_target \n",
    "    and f.value_mapping \n",
    "    and f.name in X_a.columns\n",
    "}\n",
    "\n",
    "for f in hidden_cat:\n",
    "    X_a[f] = X_a[f].astype('str')\n",
    "    X_id[f] = X_id[f].astype('str')\n",
    "    X_b[f] = X_b[f].astype('str')\n",
    "\n",
    "\n",
    "discretizer = KBinsDiscretizer(\n",
    "    n_bins=5, \n",
    "    encode='ordinal', \n",
    "    strategy='quantile', \n",
    "    subsample=200_000, \n",
    "    random_state=0\n",
    ")\n",
    "encode = OrdinalEncoder(\n",
    "    handle_unknown='use_encoded_value', \n",
    "    unknown_value=np.nan, \n",
    "    encoded_missing_value=np.nan\n",
    ")\n",
    "\n",
    "num_feats = X_a.columns[X_a.dtypes != 'object']\n",
    "cat_feats = X_a.columns[X_a.dtypes == 'object']\n",
    "\n",
    "X_a[num_feats] = discretizer.fit_transform(X_a[num_feats])\n",
    "X_id[num_feats] = discretizer.fit_transform(X_id[num_feats])\n",
    "X_b[num_feats] = discretizer.transform(X_b[num_feats])\n",
    "\n",
    "X_a[X_a.columns] = encode.fit_transform(X_a)\n",
    "X_id[X_a.columns] = encode.fit_transform(X_id)\n",
    "X_b[X_b.columns] = encode.transform(X_b)\n",
    "\n",
    "idx_id = X_id.dropna().index\n",
    "idx_b = X_b.dropna().index\n",
    "\n",
    "\n",
    "y_id = y_id.values[idx_id]\n",
    "y_b = y_b.values[idx_b]\n",
    "\n"
   ]
  },
  {
   "cell_type": "code",
   "execution_count": 14,
   "metadata": {},
   "outputs": [
    {
     "data": {
      "text/plain": [
       "11431"
      ]
     },
     "execution_count": 14,
     "metadata": {},
     "output_type": "execute_result"
    }
   ],
   "source": [
    "len(idx_b)"
   ]
  },
  {
   "cell_type": "code",
   "execution_count": 19,
   "metadata": {},
   "outputs": [
    {
     "data": {
      "text/plain": [
       "array([0, 0, 1, ..., 0, 0, 1])"
      ]
     },
     "execution_count": 19,
     "metadata": {},
     "output_type": "execute_result"
    }
   ],
   "source": [
    "y_b.values"
   ]
  },
  {
   "cell_type": "code",
   "execution_count": 124,
   "metadata": {},
   "outputs": [
    {
     "data": {
      "text/html": [
       "<div>\n",
       "<style scoped>\n",
       "    .dataframe tbody tr th:only-of-type {\n",
       "        vertical-align: middle;\n",
       "    }\n",
       "\n",
       "    .dataframe tbody tr th {\n",
       "        vertical-align: top;\n",
       "    }\n",
       "\n",
       "    .dataframe thead th {\n",
       "        text-align: right;\n",
       "    }\n",
       "</style>\n",
       "<table border=\"1\" class=\"dataframe\">\n",
       "  <thead>\n",
       "    <tr style=\"text-align: right;\">\n",
       "      <th></th>\n",
       "      <th>index</th>\n",
       "      <th>problem_type</th>\n",
       "      <th>bottom_hint</th>\n",
       "      <th>hint_count</th>\n",
       "      <th>attempt_count</th>\n",
       "      <th>ms_first_response</th>\n",
       "      <th>tutor_mode</th>\n",
       "      <th>position</th>\n",
       "      <th>type</th>\n",
       "      <th>skill_id</th>\n",
       "      <th>overlap_time</th>\n",
       "      <th>first_action</th>\n",
       "      <th>Average_confidence(FRUSTRATED)</th>\n",
       "      <th>Average_confidence(CONFUSED)</th>\n",
       "      <th>Average_confidence(CONCENTRATING)</th>\n",
       "      <th>Average_confidence(BORED)</th>\n",
       "    </tr>\n",
       "  </thead>\n",
       "  <tbody>\n",
       "  </tbody>\n",
       "</table>\n",
       "</div>"
      ],
      "text/plain": [
       "Empty DataFrame\n",
       "Columns: [index, problem_type, bottom_hint, hint_count, attempt_count, ms_first_response, tutor_mode, position, type, skill_id, overlap_time, first_action, Average_confidence(FRUSTRATED), Average_confidence(CONFUSED), Average_confidence(CONCENTRATING), Average_confidence(BORED)]\n",
       "Index: []"
      ]
     },
     "execution_count": 124,
     "metadata": {},
     "output_type": "execute_result"
    }
   ],
   "source": [
    "X_b.loc[[r not in X_b.dropna().index.values for r in X_b.index.values ],:]"
   ]
  },
  {
   "cell_type": "code",
   "execution_count": 112,
   "metadata": {},
   "outputs": [
    {
     "ename": "TypeError",
     "evalue": "unhashable type: 'DataFrame'",
     "output_type": "error",
     "traceback": [
      "\u001b[0;31m---------------------------------------------------------------------------\u001b[0m",
      "\u001b[0;31mTypeError\u001b[0m                                 Traceback (most recent call last)",
      "Cell \u001b[0;32mIn[112], line 1\u001b[0m\n\u001b[0;32m----> 1\u001b[0m X_b[\u001b[43mX_b\u001b[49m\u001b[43m \u001b[49m\u001b[38;5;129;43;01mnot\u001b[39;49;00m\u001b[43m \u001b[49m\u001b[38;5;129;43;01min\u001b[39;49;00m\u001b[43m \u001b[49m\u001b[43mX_b\u001b[49m\u001b[38;5;241;43m.\u001b[39;49m\u001b[43mdropna\u001b[49m\u001b[43m(\u001b[49m\u001b[43m)\u001b[49m]\n",
      "File \u001b[0;32m~/github/mixed/.venv/lib/python3.9/site-packages/pandas/core/generic.py:1933\u001b[0m, in \u001b[0;36mNDFrame.__contains__\u001b[0;34m(self, key)\u001b[0m\n\u001b[1;32m   1930\u001b[0m \u001b[38;5;129m@final\u001b[39m\n\u001b[1;32m   1931\u001b[0m \u001b[38;5;28;01mdef\u001b[39;00m \u001b[38;5;21m__contains__\u001b[39m(\u001b[38;5;28mself\u001b[39m, key) \u001b[38;5;241m-\u001b[39m\u001b[38;5;241m>\u001b[39m bool_t:\n\u001b[1;32m   1932\u001b[0m \u001b[38;5;250m    \u001b[39m\u001b[38;5;124;03m\"\"\"True if the key is in the info axis\"\"\"\u001b[39;00m\n\u001b[0;32m-> 1933\u001b[0m     \u001b[38;5;28;01mreturn\u001b[39;00m \u001b[43mkey\u001b[49m\u001b[43m \u001b[49m\u001b[38;5;129;43;01min\u001b[39;49;00m\u001b[43m \u001b[49m\u001b[38;5;28;43mself\u001b[39;49m\u001b[38;5;241;43m.\u001b[39;49m\u001b[43m_info_axis\u001b[49m\n",
      "File \u001b[0;32m~/github/mixed/.venv/lib/python3.9/site-packages/pandas/core/indexes/base.py:4572\u001b[0m, in \u001b[0;36mIndex.__contains__\u001b[0;34m(self, key)\u001b[0m\n\u001b[1;32m   4537\u001b[0m \u001b[38;5;28;01mdef\u001b[39;00m \u001b[38;5;21m__contains__\u001b[39m(\u001b[38;5;28mself\u001b[39m, key: Any) \u001b[38;5;241m-\u001b[39m\u001b[38;5;241m>\u001b[39m \u001b[38;5;28mbool\u001b[39m:\n\u001b[1;32m   4538\u001b[0m \u001b[38;5;250m    \u001b[39m\u001b[38;5;124;03m\"\"\"\u001b[39;00m\n\u001b[1;32m   4539\u001b[0m \u001b[38;5;124;03m    Return a boolean indicating whether the provided key is in the index.\u001b[39;00m\n\u001b[1;32m   4540\u001b[0m \n\u001b[0;32m   (...)\u001b[0m\n\u001b[1;32m   4570\u001b[0m \u001b[38;5;124;03m    False\u001b[39;00m\n\u001b[1;32m   4571\u001b[0m \u001b[38;5;124;03m    \"\"\"\u001b[39;00m\n\u001b[0;32m-> 4572\u001b[0m     \u001b[38;5;28;43mhash\u001b[39;49m\u001b[43m(\u001b[49m\u001b[43mkey\u001b[49m\u001b[43m)\u001b[49m\n\u001b[1;32m   4573\u001b[0m     \u001b[38;5;28;01mtry\u001b[39;00m:\n\u001b[1;32m   4574\u001b[0m         \u001b[38;5;28;01mreturn\u001b[39;00m key \u001b[38;5;129;01min\u001b[39;00m \u001b[38;5;28mself\u001b[39m\u001b[38;5;241m.\u001b[39m_engine\n",
      "\u001b[0;31mTypeError\u001b[0m: unhashable type: 'DataFrame'"
     ]
    }
   ],
   "source": [
    "X_b[X_b not in X_b.dropna()]"
   ]
  },
  {
   "cell_type": "code",
   "execution_count": 94,
   "metadata": {},
   "outputs": [
    {
     "data": {
      "text/plain": [
       "[array(['algebra', 'choose_1', 'choose_n', 'fill_in_1', 'open_response',\n",
       "        'rank'], dtype=object),\n",
       " array(['0.0', '1.0'], dtype=object),\n",
       " array([0.]),\n",
       " array([0., 1.]),\n",
       " array([0., 1., 2., 3., 4.]),\n",
       " array(['tutor'], dtype=object),\n",
       " array([0., 1., 2., 3., 4.]),\n",
       " array(['ChooseConditionSection', 'LinearSection', 'MasterySection',\n",
       "        'NumericLimitSection', 'PlacementsSection',\n",
       "        'RandomChildOrderSection', 'RandomIterateSection'], dtype=object),\n",
       " array(['1.0', '10.0', '100.0', '101.0', '103.0', '104.0', '105.0',\n",
       "        '106.0', '11.0', '110.0', '12.0', '13.0', '14.0', '15.0', '16.0',\n",
       "        '163.0', '1641.0', '165.0', '166.0', '17.0', '172.0', '173.0',\n",
       "        '174.0', '177.0', '178.0', '18.0', '181.0', '184.0', '186.0',\n",
       "        '192.0', '196.0', '197.0', '198.0', '2.0', '202.0', '203.0',\n",
       "        '204.0', '206.0', '209.0', '21.0', '212.0', '213.0', '214.0',\n",
       "        '216.0', '217.0', '218.0', '22.0', '220.0', '222.0', '223.0',\n",
       "        '224.0', '226.0', '23.0', '230.0', '231.0', '233.0', '238.0',\n",
       "        '24.0', '240.0', '25.0', '26.0', '27.0', '276.0', '277.0', '278.0',\n",
       "        '279.0', '280.0', '281.0', '282.0', '283.0', '284.0', '287.0',\n",
       "        '288.0', '289.0', '29.0', '290.0', '291.0', '292.0', '293.0',\n",
       "        '294.0', '295.0', '296.0', '297.0', '298.0', '299.0', '3.0',\n",
       "        '30.0', '300.0', '301.0', '302.0', '303.0', '304.0', '305.0',\n",
       "        '306.0', '307.0', '308.0', '309.0', '310.0', '311.0', '312.0',\n",
       "        '313.0', '314.0', '315.0', '316.0', '317.0', '318.0', '319.0',\n",
       "        '32.0', '320.0', '321.0', '322.0', '323.0', '324.0', '325.0',\n",
       "        '326.0', '327.0', '33.0', '331.0', '332.0', '333.0', '334.0',\n",
       "        '336.0', '338.0', '339.0', '34.0', '340.0', '343.0', '344.0',\n",
       "        '345.0', '346.0', '348.0', '35.0', '350.0', '354.0', '355.0',\n",
       "        '356.0', '358.0', '359.0', '36.0', '360.0', '361.0', '362.0',\n",
       "        '363.0', '365.0', '366.0', '367.0', '368.0', '370.0', '371.0',\n",
       "        '373.0', '375.0', '376.0', '378.0', '38.0', '385.0', '386.0',\n",
       "        '387.0', '388.0', '389.0', '39.0', '390.0', '391.0', '392.0',\n",
       "        '393.0', '4.0', '40.0', '41.0', '42.0', '43.0', '45.0', '46.0',\n",
       "        '47.0', '48.0', '49.0', '5.0', '50.0', '51.0', '52.0', '523.0',\n",
       "        '53.0', '54.0', '568.0', '569.0', '570.0', '571.0', '572.0',\n",
       "        '573.0', '574.0', '575.0', '576.0', '577.0', '578.0', '579.0',\n",
       "        '58.0', '580.0', '581.0', '582.0', '583.0', '584.0', '585.0',\n",
       "        '586.0', '587.0', '588.0', '589.0', '590.0', '591.0', '592.0',\n",
       "        '593.0', '594.0', '595.0', '596.0', '597.0', '598.0', '599.0',\n",
       "        '6.0', '600.0', '601.0', '602.0', '603.0', '604.0', '605.0',\n",
       "        '606.0', '607.0', '608.0', '609.0', '61.0', '610.0', '611.0',\n",
       "        '612.0', '613.0', '614.0', '62.0', '63.0', '64.0', '65.0', '67.0',\n",
       "        '69.0', '7.0', '70.0', '74.0', '75.0', '76.0', '77.0', '78.0',\n",
       "        '79.0', '8.0', '80.0', '81.0', '82.0', '83.0', '84.0', '85.0',\n",
       "        '86.0', '88.0', '9.0', '90.0', '91.0', '92.0', '93.0', '94.0',\n",
       "        '95.0', '96.0', '97.0', '98.0', '99.0'], dtype=object),\n",
       " array([0., 1., 2., 3., 4.]),\n",
       " array(['0', '1', '2'], dtype=object),\n",
       " array([0.]),\n",
       " array([0.]),\n",
       " array([0., 1.]),\n",
       " array([0., 1., 2.])]"
      ]
     },
     "execution_count": 94,
     "metadata": {},
     "output_type": "execute_result"
    }
   ],
   "source": [
    "encode.categories_"
   ]
  },
  {
   "cell_type": "code",
   "execution_count": 86,
   "metadata": {},
   "outputs": [
    {
     "data": {
      "text/plain": [
       "['100.0',\n",
       " '101.0',\n",
       " '104.0',\n",
       " '105.0',\n",
       " '23.0',\n",
       " '29.0',\n",
       " '3.0',\n",
       " '30.0',\n",
       " '367.0',\n",
       " '373.0',\n",
       " '38.0',\n",
       " '45.0',\n",
       " '76.0',\n",
       " '91.0',\n",
       " '93.0',\n",
       " '94.0',\n",
       " '96.0',\n",
       " '97.0',\n",
       " '98.0',\n",
       " '99.0',\n",
       " 'Absolute Value',\n",
       " 'Addition Mixed Fractions',\n",
       " 'Addition Proper Fractions',\n",
       " 'Addition Whole Numbers',\n",
       " 'Addition and Subtraction Fractions',\n",
       " 'Addition and Subtraction Integers',\n",
       " 'Addition and Subtraction Positive Decimals',\n",
       " 'Algebraic Simplification',\n",
       " 'Algebraic Solving',\n",
       " 'Angles - Obtuse, Acute, and Right',\n",
       " 'Angles on Parallel Lines Cut by a Transversal',\n",
       " 'Area Circle',\n",
       " 'Area Irregular Figure',\n",
       " 'Area Parallelogram',\n",
       " 'Area Rectangle',\n",
       " 'Area Trapezoid',\n",
       " 'Area Triangle',\n",
       " 'Associative Property',\n",
       " 'Bar Graph',\n",
       " 'Box and Whisker',\n",
       " 'Calculation with + - * /',\n",
       " 'Calculations with Similar Figures',\n",
       " 'Choose an Equation from Given Information',\n",
       " 'Circle Concept',\n",
       " 'Circle Graph',\n",
       " 'Circumference',\n",
       " 'Circumference ',\n",
       " 'Co-ordinate Points',\n",
       " 'Combinatorics',\n",
       " 'Combining Like Terms',\n",
       " 'Common Factor',\n",
       " 'Common Multiple',\n",
       " 'Commutative Property',\n",
       " 'Comparing and Identifying Slope/Rate of Change',\n",
       " 'Complementary and Supplementary Angles',\n",
       " 'Composition of Function Adding',\n",
       " 'Computation with Real Numbers',\n",
       " 'Concept Volume',\n",
       " 'Congruence',\n",
       " 'Conversion of Fraction Decimals Percents',\n",
       " 'Counting Methods',\n",
       " 'D.4.8-understanding-concept-of-probabilities',\n",
       " 'Definition Pi',\n",
       " 'Distance Formula',\n",
       " 'Distributive Property',\n",
       " 'Divisibility Rules',\n",
       " 'Division Fractions',\n",
       " 'Division Mixed Fractions',\n",
       " 'Division Proper Fractions',\n",
       " 'Division Whole Numbers',\n",
       " 'Effect of Changing Dimensions of a Shape Prportionally',\n",
       " 'Elapsed Time',\n",
       " 'English and Metric Terminology',\n",
       " 'Equal As Balance Concept',\n",
       " 'Equation Solving More Than Two Steps',\n",
       " 'Equation Solving Two or Fewer Steps',\n",
       " 'Equivalent Fractions',\n",
       " 'Estimation',\n",
       " 'Expanded, Standard and Word Notation',\n",
       " 'Exponents',\n",
       " 'Factoring Polynomials Standard',\n",
       " 'Factoring Trinomials',\n",
       " 'Finding Percents',\n",
       " 'Finding Ratios',\n",
       " 'Finding Slope From Equation',\n",
       " 'Finding Slope From Situation',\n",
       " 'Finding Slope from Graph',\n",
       " 'Finding Slope from Ordered Pairs',\n",
       " 'Finding y-intercept from Linear Equation',\n",
       " 'Fraction Of',\n",
       " 'Geometric Definitions',\n",
       " 'Graph Shape',\n",
       " 'Graphing Inequalities on a number line',\n",
       " 'Graphing Linear Equations',\n",
       " 'Greatest Common Factor',\n",
       " 'Histogram as Table or Graph',\n",
       " 'Interior Angles Figures with More than 3 Sides',\n",
       " 'Interior Angles Triangle',\n",
       " 'Interpreting Coordinate Graphs ',\n",
       " 'Inverse Relations',\n",
       " 'Least Common Multiple',\n",
       " 'Line Plot',\n",
       " 'Line Symmetry',\n",
       " 'Line of Best-Fit',\n",
       " 'Making a Table from an Equation',\n",
       " 'Mean',\n",
       " 'Mean-Median-Mode-Range Differentiation',\n",
       " 'Median',\n",
       " 'Midpoint',\n",
       " 'Mode',\n",
       " 'Multiplication Division by Powers of 10',\n",
       " 'Multiplication Fractions',\n",
       " 'Multiplication Mixed Fractions',\n",
       " 'Multiplication Positive Decimals',\n",
       " 'Multiplication Proper Fractions',\n",
       " 'Multiplication Whole Numbers',\n",
       " 'Multiplication and Division Integers',\n",
       " 'Multiplication and Division Positive Decimals',\n",
       " 'Multiplying non Monomial Polynomials',\n",
       " 'Nets of 3D Figures',\n",
       " 'Nets of 3D Objects',\n",
       " 'Number Line',\n",
       " 'Odd and Even Number',\n",
       " 'Order of Operations +,-,/,* () positive reals',\n",
       " 'Order of Operations All',\n",
       " 'Ordering Fractions',\n",
       " 'Ordering Integers',\n",
       " 'Ordering Positive Decimals',\n",
       " 'Ordering Real Numbers',\n",
       " 'Ordering Whole Numbers',\n",
       " 'Parallel and Perpendicular Lines',\n",
       " 'Parts of a Polyomial, Terms, Coefficient, Monomial, Exponent, Variable',\n",
       " 'Pattern Finding',\n",
       " 'Pattern Finding ',\n",
       " 'Percent Discount',\n",
       " 'Percent Increase or Decrease',\n",
       " 'Percent Of',\n",
       " 'Percents',\n",
       " 'Perimeter of a Polygon',\n",
       " 'Perimeter of an Irregular Figure',\n",
       " 'Picking Equation and Inequality from Choices',\n",
       " 'Picking Expressions From Choices',\n",
       " 'Point Plotting',\n",
       " 'Polynomial Factors',\n",
       " 'Prime Factor',\n",
       " 'Prime Number',\n",
       " 'Probability of Two Distinct Events',\n",
       " 'Probability of a Single Event',\n",
       " 'Properties and Clasification of Pyramid',\n",
       " 'Properties and Classification Circle',\n",
       " 'Properties and Classification Polygons with 5 or more sides',\n",
       " 'Properties and Classification Prism',\n",
       " 'Properties and Classification Quadrilaterals',\n",
       " 'Properties and Classification Rectangular Prisms',\n",
       " 'Properties and Classification Triangles',\n",
       " 'Properties of Numbers',\n",
       " 'Proportion',\n",
       " 'Pythagorean Theorem',\n",
       " 'Quadratic Equation Solving',\n",
       " 'Quadratic Formula to Solve Quadratic Equation',\n",
       " 'Range',\n",
       " 'Rate',\n",
       " 'Reading a Ruler or Scale',\n",
       " 'Recognize Linear Pattern',\n",
       " 'Recognize Quadratic Pattern',\n",
       " 'Recognizing Equivalent Expressions',\n",
       " 'Recognizing Expressions or Equations from Diagrams',\n",
       " 'Reflection',\n",
       " 'Rotational Symmetry',\n",
       " 'Rotations',\n",
       " 'Rounding',\n",
       " 'Sampling Techniques',\n",
       " 'Scale Factor',\n",
       " 'Scatter Plot',\n",
       " 'Scientific Notation',\n",
       " 'Similar Figures',\n",
       " 'Simplifying Expressions positive exponents',\n",
       " 'Solve Quadratic Equations Using Factoring',\n",
       " 'Solving Inequalities',\n",
       " 'Solving System of Equation',\n",
       " 'Solving Systems of Linear Equations',\n",
       " 'Solving Systems of Linear Equations by Graphing',\n",
       " 'Solving for a variable',\n",
       " 'Square Root',\n",
       " 'Square Roots',\n",
       " 'Stem and Leaf Plot',\n",
       " 'Substitution',\n",
       " 'Subtraction Mixed Fractions',\n",
       " 'Subtraction Proper Fractions',\n",
       " 'Subtraction Whole Numbers',\n",
       " 'Surface Area Cylinder',\n",
       " 'Surface Area Pyramid',\n",
       " 'Surface Area Rectangular Prism',\n",
       " 'Surface Area Sphere',\n",
       " 'Surface Area of 3D Objects',\n",
       " 'Surface Area of Prism',\n",
       " 'Symbolization',\n",
       " 'Table',\n",
       " 'Transformation',\n",
       " 'Translations',\n",
       " 'Tree Diagrams, Lists for Counting',\n",
       " 'Unit Conversion Standard to Metric',\n",
       " 'Unit Conversion Within a System',\n",
       " 'Unit Rate',\n",
       " 'Venn Diagram',\n",
       " 'Volume Cone',\n",
       " 'Volume Cylinder',\n",
       " 'Volume Prism',\n",
       " 'Volume Pyramid',\n",
       " 'Volume Rectangular Prism',\n",
       " 'Volume Sphere',\n",
       " 'Volume of 3D Objects',\n",
       " 'Write Linear Equation from Graph',\n",
       " 'Write Linear Equation from Ordered Pairs',\n",
       " 'Write Linear Equation from Situation',\n",
       " 'Write Linear Equation from Slope and y-intercept',\n",
       " 'Writine Expression from Diagrams',\n",
       " 'X-Y Graph Reading']"
      ]
     },
     "execution_count": 86,
     "metadata": {},
     "output_type": "execute_result"
    }
   ],
   "source": [
    "sorted(X_a.skill_id.unique().astype('str'))"
   ]
  },
  {
   "cell_type": "code",
   "execution_count": 67,
   "metadata": {},
   "outputs": [
    {
     "ename": "TypeError",
     "evalue": "Encoders require their input to be uniformly strings or numbers. Got ['float', 'str']",
     "output_type": "error",
     "traceback": [
      "\u001b[0;31m---------------------------------------------------------------------------\u001b[0m",
      "\u001b[0;31mTypeError\u001b[0m                                 Traceback (most recent call last)",
      "File \u001b[0;32m~/github/mixed/.venv/lib/python3.9/site-packages/sklearn/utils/_encode.py:173\u001b[0m, in \u001b[0;36m_unique_python\u001b[0;34m(values, return_inverse, return_counts)\u001b[0m\n\u001b[1;32m    171\u001b[0m uniques_set, missing_values \u001b[38;5;241m=\u001b[39m _extract_missing(uniques_set)\n\u001b[0;32m--> 173\u001b[0m uniques \u001b[38;5;241m=\u001b[39m \u001b[38;5;28;43msorted\u001b[39;49m\u001b[43m(\u001b[49m\u001b[43muniques_set\u001b[49m\u001b[43m)\u001b[49m\n\u001b[1;32m    174\u001b[0m uniques\u001b[38;5;241m.\u001b[39mextend(missing_values\u001b[38;5;241m.\u001b[39mto_list())\n",
      "\u001b[0;31mTypeError\u001b[0m: '<' not supported between instances of 'float' and 'str'",
      "\nDuring handling of the above exception, another exception occurred:\n",
      "\u001b[0;31mTypeError\u001b[0m                                 Traceback (most recent call last)",
      "Cell \u001b[0;32mIn[67], line 2\u001b[0m\n\u001b[1;32m      1\u001b[0m \u001b[38;5;28;01mfor\u001b[39;00m f_c \u001b[38;5;129;01min\u001b[39;00m cat_feats:\n\u001b[0;32m----> 2\u001b[0m     X_a[f_c] \u001b[38;5;241m=\u001b[39m \u001b[43mencode\u001b[49m\u001b[38;5;241;43m.\u001b[39;49m\u001b[43mfit_transform\u001b[49m\u001b[43m(\u001b[49m\u001b[43mX_a\u001b[49m\u001b[43m[\u001b[49m\u001b[43mf_c\u001b[49m\u001b[43m]\u001b[49m\u001b[43m)\u001b[49m\n\u001b[1;32m      3\u001b[0m     X_b[f_c] \u001b[38;5;241m=\u001b[39m encode\u001b[38;5;241m.\u001b[39mtransform(X_b[f_c])\n",
      "File \u001b[0;32m~/github/mixed/.venv/lib/python3.9/site-packages/sklearn/preprocessing/_label.py:116\u001b[0m, in \u001b[0;36mLabelEncoder.fit_transform\u001b[0;34m(self, y)\u001b[0m\n\u001b[1;32m    103\u001b[0m \u001b[38;5;250m\u001b[39m\u001b[38;5;124;03m\"\"\"Fit label encoder and return encoded labels.\u001b[39;00m\n\u001b[1;32m    104\u001b[0m \n\u001b[1;32m    105\u001b[0m \u001b[38;5;124;03mParameters\u001b[39;00m\n\u001b[0;32m   (...)\u001b[0m\n\u001b[1;32m    113\u001b[0m \u001b[38;5;124;03m    Encoded labels.\u001b[39;00m\n\u001b[1;32m    114\u001b[0m \u001b[38;5;124;03m\"\"\"\u001b[39;00m\n\u001b[1;32m    115\u001b[0m y \u001b[38;5;241m=\u001b[39m column_or_1d(y, warn\u001b[38;5;241m=\u001b[39m\u001b[38;5;28;01mTrue\u001b[39;00m)\n\u001b[0;32m--> 116\u001b[0m \u001b[38;5;28mself\u001b[39m\u001b[38;5;241m.\u001b[39mclasses_, y \u001b[38;5;241m=\u001b[39m \u001b[43m_unique\u001b[49m\u001b[43m(\u001b[49m\u001b[43my\u001b[49m\u001b[43m,\u001b[49m\u001b[43m \u001b[49m\u001b[43mreturn_inverse\u001b[49m\u001b[38;5;241;43m=\u001b[39;49m\u001b[38;5;28;43;01mTrue\u001b[39;49;00m\u001b[43m)\u001b[49m\n\u001b[1;32m    117\u001b[0m \u001b[38;5;28;01mreturn\u001b[39;00m y\n",
      "File \u001b[0;32m~/github/mixed/.venv/lib/python3.9/site-packages/sklearn/utils/_encode.py:41\u001b[0m, in \u001b[0;36m_unique\u001b[0;34m(values, return_inverse, return_counts)\u001b[0m\n\u001b[1;32m     10\u001b[0m \u001b[38;5;250m\u001b[39m\u001b[38;5;124;03m\"\"\"Helper function to find unique values with support for python objects.\u001b[39;00m\n\u001b[1;32m     11\u001b[0m \n\u001b[1;32m     12\u001b[0m \u001b[38;5;124;03mUses pure python method for object dtype, and numpy method for\u001b[39;00m\n\u001b[0;32m   (...)\u001b[0m\n\u001b[1;32m     38\u001b[0m \u001b[38;5;124;03m    array. Only provided if `return_counts` is True.\u001b[39;00m\n\u001b[1;32m     39\u001b[0m \u001b[38;5;124;03m\"\"\"\u001b[39;00m\n\u001b[1;32m     40\u001b[0m \u001b[38;5;28;01mif\u001b[39;00m values\u001b[38;5;241m.\u001b[39mdtype \u001b[38;5;241m==\u001b[39m \u001b[38;5;28mobject\u001b[39m:\n\u001b[0;32m---> 41\u001b[0m     \u001b[38;5;28;01mreturn\u001b[39;00m \u001b[43m_unique_python\u001b[49m\u001b[43m(\u001b[49m\n\u001b[1;32m     42\u001b[0m \u001b[43m        \u001b[49m\u001b[43mvalues\u001b[49m\u001b[43m,\u001b[49m\u001b[43m \u001b[49m\u001b[43mreturn_inverse\u001b[49m\u001b[38;5;241;43m=\u001b[39;49m\u001b[43mreturn_inverse\u001b[49m\u001b[43m,\u001b[49m\u001b[43m \u001b[49m\u001b[43mreturn_counts\u001b[49m\u001b[38;5;241;43m=\u001b[39;49m\u001b[43mreturn_counts\u001b[49m\n\u001b[1;32m     43\u001b[0m \u001b[43m    \u001b[49m\u001b[43m)\u001b[49m\n\u001b[1;32m     44\u001b[0m \u001b[38;5;66;03m# numerical\u001b[39;00m\n\u001b[1;32m     45\u001b[0m \u001b[38;5;28;01mreturn\u001b[39;00m _unique_np(\n\u001b[1;32m     46\u001b[0m     values, return_inverse\u001b[38;5;241m=\u001b[39mreturn_inverse, return_counts\u001b[38;5;241m=\u001b[39mreturn_counts\n\u001b[1;32m     47\u001b[0m )\n",
      "File \u001b[0;32m~/github/mixed/.venv/lib/python3.9/site-packages/sklearn/utils/_encode.py:178\u001b[0m, in \u001b[0;36m_unique_python\u001b[0;34m(values, return_inverse, return_counts)\u001b[0m\n\u001b[1;32m    176\u001b[0m \u001b[38;5;28;01mexcept\u001b[39;00m \u001b[38;5;167;01mTypeError\u001b[39;00m:\n\u001b[1;32m    177\u001b[0m     types \u001b[38;5;241m=\u001b[39m \u001b[38;5;28msorted\u001b[39m(t\u001b[38;5;241m.\u001b[39m\u001b[38;5;18m__qualname__\u001b[39m \u001b[38;5;28;01mfor\u001b[39;00m t \u001b[38;5;129;01min\u001b[39;00m \u001b[38;5;28mset\u001b[39m(\u001b[38;5;28mtype\u001b[39m(v) \u001b[38;5;28;01mfor\u001b[39;00m v \u001b[38;5;129;01min\u001b[39;00m values))\n\u001b[0;32m--> 178\u001b[0m     \u001b[38;5;28;01mraise\u001b[39;00m \u001b[38;5;167;01mTypeError\u001b[39;00m(\n\u001b[1;32m    179\u001b[0m         \u001b[38;5;124m\"\u001b[39m\u001b[38;5;124mEncoders require their input to be uniformly \u001b[39m\u001b[38;5;124m\"\u001b[39m\n\u001b[1;32m    180\u001b[0m         \u001b[38;5;124mf\u001b[39m\u001b[38;5;124m\"\u001b[39m\u001b[38;5;124mstrings or numbers. Got \u001b[39m\u001b[38;5;132;01m{\u001b[39;00mtypes\u001b[38;5;132;01m}\u001b[39;00m\u001b[38;5;124m\"\u001b[39m\n\u001b[1;32m    181\u001b[0m     )\n\u001b[1;32m    182\u001b[0m ret \u001b[38;5;241m=\u001b[39m (uniques,)\n\u001b[1;32m    184\u001b[0m \u001b[38;5;28;01mif\u001b[39;00m return_inverse:\n",
      "\u001b[0;31mTypeError\u001b[0m: Encoders require their input to be uniformly strings or numbers. Got ['float', 'str']"
     ]
    }
   ],
   "source": [
    "for f_c in cat_feats:\n",
    "    X_a[f_c] = encode.fit_transform(X_a[f_c])\n",
    "    X_b[f_c] = encode.transform(X_b[f_c])\n"
   ]
  },
  {
   "cell_type": "code",
   "execution_count": 60,
   "metadata": {},
   "outputs": [
    {
     "data": {
      "text/plain": [
       "dtype('O')"
      ]
     },
     "execution_count": 60,
     "metadata": {},
     "output_type": "execute_result"
    }
   ],
   "source": [
    "X_a[f_c].dtype"
   ]
  },
  {
   "cell_type": "code",
   "execution_count": 68,
   "metadata": {},
   "outputs": [
    {
     "data": {
      "text/plain": [
       "problem_type     int64\n",
       "bottom_hint      int64\n",
       "tutor_mode       int64\n",
       "type             int64\n",
       "skill_id        object\n",
       "first_action    object\n",
       "dtype: object"
      ]
     },
     "execution_count": 68,
     "metadata": {},
     "output_type": "execute_result"
    }
   ],
   "source": [
    "X_a[cat_feats].dtypes"
   ]
  },
  {
   "cell_type": "code",
   "execution_count": 69,
   "metadata": {},
   "outputs": [
    {
     "data": {
      "text/plain": [
       "problem_type     int64\n",
       "bottom_hint      int64\n",
       "tutor_mode       int64\n",
       "type             int64\n",
       "skill_id        object\n",
       "first_action    object\n",
       "dtype: object"
      ]
     },
     "execution_count": 69,
     "metadata": {},
     "output_type": "execute_result"
    }
   ],
   "source": [
    "X_b[cat_feats].dtypes"
   ]
  },
  {
   "cell_type": "code",
   "execution_count": 46,
   "metadata": {},
   "outputs": [
    {
     "data": {
      "text/plain": [
       "Index(['hint_count', 'attempt_count', 'ms_first_response', 'position',\n",
       "       'overlap_time', 'Average_confidence(FRUSTRATED)',\n",
       "       'Average_confidence(CONFUSED)', 'Average_confidence(CONCENTRATING)',\n",
       "       'Average_confidence(BORED)'],\n",
       "      dtype='object')"
      ]
     },
     "execution_count": 46,
     "metadata": {},
     "output_type": "execute_result"
    }
   ],
   "source": [
    "num_feats"
   ]
  },
  {
   "cell_type": "code",
   "execution_count": null,
   "metadata": {},
   "outputs": [],
   "source": []
  },
  {
   "cell_type": "code",
   "execution_count": null,
   "metadata": {},
   "outputs": [],
   "source": []
  },
  {
   "cell_type": "code",
   "execution_count": 32,
   "metadata": {},
   "outputs": [
    {
     "data": {
      "text/html": [
       "<div>\n",
       "<style scoped>\n",
       "    .dataframe tbody tr th:only-of-type {\n",
       "        vertical-align: middle;\n",
       "    }\n",
       "\n",
       "    .dataframe tbody tr th {\n",
       "        vertical-align: top;\n",
       "    }\n",
       "\n",
       "    .dataframe thead th {\n",
       "        text-align: right;\n",
       "    }\n",
       "</style>\n",
       "<table border=\"1\" class=\"dataframe\">\n",
       "  <thead>\n",
       "    <tr style=\"text-align: right;\">\n",
       "      <th></th>\n",
       "      <th>skill_id</th>\n",
       "      <th>bottom_hint</th>\n",
       "      <th>first_action</th>\n",
       "    </tr>\n",
       "  </thead>\n",
       "  <tbody>\n",
       "    <tr>\n",
       "      <th>0</th>\n",
       "      <td>Addition and Subtraction Fractions</td>\n",
       "      <td>False</td>\n",
       "      <td>Answer</td>\n",
       "    </tr>\n",
       "    <tr>\n",
       "      <th>1</th>\n",
       "      <td>Distributive Property</td>\n",
       "      <td>False</td>\n",
       "      <td>Answer</td>\n",
       "    </tr>\n",
       "    <tr>\n",
       "      <th>2</th>\n",
       "      <td>Addition and Subtraction Fractions</td>\n",
       "      <td>False</td>\n",
       "      <td>Answer</td>\n",
       "    </tr>\n",
       "    <tr>\n",
       "      <th>3</th>\n",
       "      <td>Addition and Subtraction Fractions</td>\n",
       "      <td>True</td>\n",
       "      <td>Answer</td>\n",
       "    </tr>\n",
       "    <tr>\n",
       "      <th>4</th>\n",
       "      <td>Addition and Subtraction Fractions</td>\n",
       "      <td>False</td>\n",
       "      <td>Answer</td>\n",
       "    </tr>\n",
       "    <tr>\n",
       "      <th>...</th>\n",
       "      <td>...</td>\n",
       "      <td>...</td>\n",
       "      <td>...</td>\n",
       "    </tr>\n",
       "    <tr>\n",
       "      <th>8</th>\n",
       "      <td>Addition and Subtraction Integers</td>\n",
       "      <td>False</td>\n",
       "      <td>Hint</td>\n",
       "    </tr>\n",
       "    <tr>\n",
       "      <th>9</th>\n",
       "      <td>Addition and Subtraction Integers</td>\n",
       "      <td>False</td>\n",
       "      <td>Hint</td>\n",
       "    </tr>\n",
       "    <tr>\n",
       "      <th>10</th>\n",
       "      <td>Addition and Subtraction Integers</td>\n",
       "      <td>False</td>\n",
       "      <td>Answer</td>\n",
       "    </tr>\n",
       "    <tr>\n",
       "      <th>11</th>\n",
       "      <td>Addition Whole Numbers</td>\n",
       "      <td>False</td>\n",
       "      <td>Hint</td>\n",
       "    </tr>\n",
       "    <tr>\n",
       "      <th>0</th>\n",
       "      <td>Distributive Property</td>\n",
       "      <td>False</td>\n",
       "      <td>Answer</td>\n",
       "    </tr>\n",
       "  </tbody>\n",
       "</table>\n",
       "<p>2132526 rows × 3 columns</p>\n",
       "</div>"
      ],
      "text/plain": [
       "                              skill_id bottom_hint first_action\n",
       "0   Addition and Subtraction Fractions       False       Answer\n",
       "1                Distributive Property       False       Answer\n",
       "2   Addition and Subtraction Fractions       False       Answer\n",
       "3   Addition and Subtraction Fractions        True       Answer\n",
       "4   Addition and Subtraction Fractions       False       Answer\n",
       "..                                 ...         ...          ...\n",
       "8    Addition and Subtraction Integers       False         Hint\n",
       "9    Addition and Subtraction Integers       False         Hint\n",
       "10   Addition and Subtraction Integers       False       Answer\n",
       "11              Addition Whole Numbers       False         Hint\n",
       "0                Distributive Property       False       Answer\n",
       "\n",
       "[2132526 rows x 3 columns]"
      ]
     },
     "execution_count": 32,
     "metadata": {},
     "output_type": "execute_result"
    }
   ],
   "source": [
    "X_a[hidden_cat]"
   ]
  },
  {
   "cell_type": "code",
   "execution_count": 23,
   "metadata": {},
   "outputs": [
    {
     "name": "stdout",
     "output_type": "stream",
     "text": [
      "skill_id\n",
      "bottom_hint\n",
      "first_action\n"
     ]
    }
   ],
   "source": [
    "for f in hidden_cat:\n",
    "    print(f)"
   ]
  },
  {
   "cell_type": "code",
   "execution_count": 20,
   "metadata": {},
   "outputs": [
    {
     "data": {
      "text/plain": [
       "dict_keys(['skill_id', 'bottom_hint', 'first_action'])"
      ]
     },
     "execution_count": 20,
     "metadata": {},
     "output_type": "execute_result"
    }
   ],
   "source": [
    "hidden_cat.keys()"
   ]
  },
  {
   "cell_type": "code",
   "execution_count": 21,
   "metadata": {},
   "outputs": [
    {
     "data": {
      "text/plain": [
       "{54.0: 'Rounding',\n",
       " 279.0: 'Multiplication and Division Integers',\n",
       " 79.0: 'Proportion',\n",
       " 86.0: 'Exponents',\n",
       " 311.0: 'Equation Solving Two or Fewer Steps',\n",
       " 11.0: 'Venn Diagram',\n",
       " 280.0: 'Addition and Subtraction Fractions',\n",
       " 338.0: 'Combining Like Terms',\n",
       " 81.0: 'Unit Rate',\n",
       " 325.0: 'Write Linear Equation from Graph',\n",
       " 322.0: 'Write Linear Equation from Ordered Pairs',\n",
       " 13.0: 'Median',\n",
       " 312.0: 'Equation Solving More Than Two Steps',\n",
       " 75.0: 'Square Root',\n",
       " 336.0: 'Finding y-intercept from Linear Equation',\n",
       " 315.0: 'Parallel and Perpendicular Lines',\n",
       " 340.0: 'Distributive Property',\n",
       " 70.0: 'Percent Of',\n",
       " 67.0: 'Multiplication Fractions',\n",
       " 277.0: 'Addition and Subtraction Integers',\n",
       " 24.0: 'Congruence',\n",
       " 363.0: 'Multiplying non Monomial Polynomials',\n",
       " 309.0: 'Order of Operations +,-,/,* () positive reals',\n",
       " 324.0: 'Recognize Linear Pattern',\n",
       " 333.0: 'Finding Slope From Equation',\n",
       " 25.0: 'Complementary and Supplementary Angles',\n",
       " 378.0: 'Solving Systems of Linear Equations by Graphing',\n",
       " 49.0: 'Ordering Positive Decimals',\n",
       " 110.0: 'D.4.8-understanding-concept-of-probabilities',\n",
       " 42.0: 'Perimeter of a Polygon',\n",
       " 368.0: 'Solving for a variable',\n",
       " 12.0: 'Mean',\n",
       " 103.0: 'Point Plotting',\n",
       " 34.0: 'Unit Conversion Within a System',\n",
       " 47.0: 'Conversion of Fraction Decimals Percents',\n",
       " 61.0: 'Division Fractions',\n",
       " 296.0: 'Area Rectangle',\n",
       " 82.0: 'Scientific Notation',\n",
       " 15.0: 'Range',\n",
       " 51.0: 'Ordering Integers',\n",
       " 27.0: 'Pythagorean Theorem',\n",
       " 307.0: 'Volume Rectangular Prism',\n",
       " 65.0: 'Least Common Multiple',\n",
       " 323.0: 'Write Linear Equation from Situation',\n",
       " 326.0: 'Write Linear Equation from Slope and y-intercept',\n",
       " 46.0: 'Calculations with Similar Figures',\n",
       " 278.0: 'Addition and Subtraction Positive Decimals',\n",
       " 299.0: 'Surface Area Cylinder',\n",
       " 8.0: 'Scatter Plot',\n",
       " 77.0: 'Finding Percents',\n",
       " 163.0: 'Absolute Value',\n",
       " 523.0: 'Picking Expressions From Choices',\n",
       " 310.0: 'Order of Operations All',\n",
       " 80.0: 'Scale Factor',\n",
       " 297.0: 'Area Trapezoid',\n",
       " 39.0: 'Area Circle',\n",
       " 301.0: 'Surface Area Rectangular Prism',\n",
       " 302.0: 'Surface Area Sphere',\n",
       " 53.0: 'Ordering Real Numbers',\n",
       " 166.0: 'Algebraic Solving',\n",
       " 21.0: 'Interior Angles Figures with More than 3 Sides',\n",
       " 92.0: 'Pattern Finding ',\n",
       " 95.0: 'Substitution',\n",
       " 17.0: 'Probability of Two Distinct Events',\n",
       " 288.0: 'Properties and Classification Rectangular Prisms',\n",
       " 334.0: 'Finding Slope from Ordered Pairs',\n",
       " 282.0: 'Properties and Classification Polygons with 5 or more sides',\n",
       " 281.0: 'Properties and Classification Triangles',\n",
       " 371.0: 'Simplifying Expressions positive exponents',\n",
       " 84.0: 'Prime Number',\n",
       " 580.0: 'Exponents',\n",
       " 48.0: 'Equivalent Fractions',\n",
       " 314.0: 'Angles - Obtuse, Acute, and Right',\n",
       " 1.0: 'Box and Whisker',\n",
       " 362.0: 'Parts of a Polyomial, Terms, Coefficient, Monomial, Exponent, Variable',\n",
       " 350.0: 'Solving Systems of Linear Equations',\n",
       " 4.0: 'Histogram as Table or Graph',\n",
       " 306.0: 'Volume Pyramid',\n",
       " 298.0: 'Area Triangle',\n",
       " 83.0: 'Divisibility Rules',\n",
       " 294.0: 'Area Irregular Figure',\n",
       " 588.0: 'Equivalent Fractions',\n",
       " 577.0: 'Nets of 3D Objects',\n",
       " 331.0: 'Finding Slope From Situation',\n",
       " 569.0: 'Surface Area Rectangular Prism',\n",
       " 22.0: 'Interior Angles Triangle',\n",
       " 36.0: 'Unit Conversion Standard to Metric',\n",
       " 346.0: 'Polynomial Factors',\n",
       " 317.0: 'Greatest Common Factor',\n",
       " 332.0: 'Finding Slope from Graph',\n",
       " 90.0: 'Picking Equation and Inequality from Choices',\n",
       " 303.0: 'Volume Cylinder',\n",
       " 173.0: 'Choose an Equation from Given Information',\n",
       " 308.0: 'Volume Sphere',\n",
       " 217.0: 'Rate',\n",
       " 356.0: 'Quadratic Formula to Solve Quadratic Equation',\n",
       " 40.0: 'Circumference ',\n",
       " 283.0: 'Properties and Classification Quadrilaterals',\n",
       " 343.0: 'Midpoint',\n",
       " 295.0: 'Area Parallelogram',\n",
       " 392.0: 'Surface Area of Prism',\n",
       " 50.0: 'Ordering Fractions',\n",
       " 41.0: 'Definition Pi',\n",
       " 5.0: 'Number Line',\n",
       " 287.0: 'Properties and Classification Prism',\n",
       " 18.0: 'Probability of a Single Event',\n",
       " 276.0: 'Multiplication and Division Positive Decimals',\n",
       " 63.0: 'Estimation',\n",
       " 292.0: 'Rotations',\n",
       " 26.0: 'Angles on Parallel Lines Cut by a Transversal',\n",
       " 572.0: 'Circumference',\n",
       " 575.0: 'Concept Volume',\n",
       " 58.0: 'Addition Whole Numbers',\n",
       " 85.0: 'Absolute Value',\n",
       " 186.0: 'Histogram as Table or Graph',\n",
       " 358.0: 'Making a Table from an Equation',\n",
       " 284.0: 'Properties and Classification Circle',\n",
       " 584.0: 'Multiplication Proper Fractions',\n",
       " 574.0: 'Subtraction Mixed Fractions',\n",
       " 576.0: 'Area Rectangle',\n",
       " 366.0: 'Composition of Function Adding',\n",
       " 305.0: 'Volume Cone',\n",
       " 354.0: 'Factoring Polynomials Standard',\n",
       " 304.0: 'Volume Prism',\n",
       " 319.0: 'Prime Factor',\n",
       " 591.0: 'Subtraction Proper Fractions',\n",
       " 582.0: 'Multiplication Positive Decimals',\n",
       " 587.0: 'Least Common Multiple',\n",
       " 16.0: 'Counting Methods',\n",
       " 32.0: 'Nets of 3D Figures',\n",
       " 88.0: 'Inverse Relations',\n",
       " 365.0: 'Interpreting Coordinate Graphs ',\n",
       " 106.0: 'Graph Shape',\n",
       " 33.0: 'English and Metric Terminology',\n",
       " 375.0: 'Solving Inequalities',\n",
       " 1641.0: 'Finding Ratios',\n",
       " 62.0: 'Division Whole Numbers',\n",
       " 7.0: 'Sampling Techniques',\n",
       " 290.0: 'Reflection',\n",
       " 203.0: 'Percent Discount',\n",
       " 339.0: 'Bar Graph',\n",
       " 240.0: 'X-Y Graph Reading',\n",
       " 69.0: 'Multiplication Whole Numbers',\n",
       " 222.0: 'Solving Inequalities',\n",
       " 316.0: 'Expanded, Standard and Word Notation',\n",
       " 74.0: 'Subtraction Whole Numbers',\n",
       " 321.0: 'Computation with Real Numbers',\n",
       " 78.0: 'Percent Increase or Decrease',\n",
       " 391.0: 'Graphing Linear Equations',\n",
       " 230.0: 'Surface Area of 3D Objects',\n",
       " 327.0: 'Comparing and Identifying Slope/Rate of Change',\n",
       " 293.0: 'Translations',\n",
       " 10.0: 'Table',\n",
       " 300.0: 'Surface Area Pyramid',\n",
       " 9.0: 'Stem and Leaf Plot',\n",
       " 613.0: 'Addition Mixed Fractions',\n",
       " 360.0: 'Writine Expression from Diagrams',\n",
       " 387.0: 'Perimeter of an Irregular Figure',\n",
       " 14.0: 'Mode',\n",
       " 64.0: 'Fraction Of',\n",
       " 202.0: 'Pattern Finding',\n",
       " 318.0: 'Multiplication Division by Powers of 10',\n",
       " 344.0: 'Distance Formula',\n",
       " 231.0: 'Symbolization',\n",
       " 223.0: 'Solving System of Equation',\n",
       " 226.0: 'Substitution',\n",
       " 204.0: 'Percents',\n",
       " 6.0: 'Line Plot',\n",
       " 214.0: 'Quadratic Equation Solving',\n",
       " 585.0: 'Division Proper Fractions',\n",
       " 578.0: 'Area Parallelogram',\n",
       " 181.0: 'Exponents',\n",
       " 581.0: 'Circle Concept',\n",
       " 570.0: 'Area Trapezoid',\n",
       " 233.0: 'Transformation',\n",
       " 571.0: 'Area Circle',\n",
       " 583.0: 'Multiplication Mixed Fractions',\n",
       " 579.0: 'Area Triangle',\n",
       " 589.0: 'Addition Proper Fractions',\n",
       " 393.0: 'Associative Property',\n",
       " 198.0: 'Median',\n",
       " 370.0: 'Recognizing Equivalent Expressions',\n",
       " 376.0: 'Graphing Inequalities on a number line',\n",
       " 388.0: 'Common Multiple',\n",
       " 595.0: 'Area Circle',\n",
       " 599.0: 'Concept Volume',\n",
       " 52.0: 'Ordering Whole Numbers',\n",
       " 601.0: 'Area Parallelogram',\n",
       " 596.0: 'Circumference',\n",
       " 359.0: 'Commutative Property',\n",
       " 172.0: 'Calculation with + - * /',\n",
       " 2.0: 'Circle Graph',\n",
       " 224.0: 'Square Roots',\n",
       " 586.0: 'Greatest Common Factor',\n",
       " 35.0: 'Effect of Changing Dimensions of a Shape Prportionally',\n",
       " 568.0: 'Volume Rectangular Prism',\n",
       " 573.0: 'Division Mixed Fractions',\n",
       " 192.0: 'Line of Best-Fit',\n",
       " 238.0: 'Volume of 3D Objects',\n",
       " 345.0: 'Properties and Clasification of Pyramid',\n",
       " 605.0: 'Multiplication Positive Decimals',\n",
       " 313.0: 'Tree Diagrams, Lists for Counting',\n",
       " 597.0: 'Division Mixed Fractions',\n",
       " 216.0: 'Range',\n",
       " 386.0: 'Odd and Even Number',\n",
       " 213.0: 'Pythagorean Theorem',\n",
       " 206.0: 'Factoring Trinomials',\n",
       " 289.0: 'Line Symmetry',\n",
       " 165.0: 'Algebraic Simplification',\n",
       " 610.0: 'Least Common Multiple',\n",
       " 390.0: 'Graph Shape',\n",
       " 389.0: 'Common Factor',\n",
       " 212.0: 'Proportion',\n",
       " 593.0: 'Surface Area Rectangular Prism',\n",
       " 609.0: 'Greatest Common Factor',\n",
       " 606.0: 'Multiplication Mixed Fractions',\n",
       " 598.0: 'Subtraction Mixed Fractions',\n",
       " 385.0: 'Elapsed Time',\n",
       " 590.0: 'Addition Mixed Fractions',\n",
       " 594.0: 'Area Trapezoid',\n",
       " 184.0: 'Geometric Definitions',\n",
       " 218.0: 'Finding Ratios',\n",
       " 197.0: 'Mean-Median-Mode-Range Differentiation',\n",
       " 600.0: 'Area Rectangle',\n",
       " 196.0: 'Mean',\n",
       " 361.0: 'Recognizing Expressions or Equations from Diagrams',\n",
       " 603.0: 'Exponents',\n",
       " 614.0: 'Subtraction Proper Fractions',\n",
       " 608.0: 'Division Proper Fractions',\n",
       " 602.0: 'Area Triangle',\n",
       " 220.0: 'Similar Figures',\n",
       " 355.0: 'Solve Quadratic Equations Using Factoring',\n",
       " 592.0: 'Volume Rectangular Prism',\n",
       " 43.0: 'Reading a Ruler or Scale',\n",
       " 320.0: 'Equal As Balance Concept',\n",
       " 209.0: 'Properties of Numbers',\n",
       " 607.0: 'Multiplication Proper Fractions',\n",
       " 174.0: 'Circle Graph',\n",
       " 604.0: 'Circle Concept',\n",
       " 348.0: 'Recognize Quadratic Pattern',\n",
       " 612.0: 'Addition Proper Fractions',\n",
       " 178.0: 'Combinatorics',\n",
       " 611.0: 'Equivalent Fractions',\n",
       " 291.0: 'Rotational Symmetry',\n",
       " 177.0: 'Co-ordinate Points'}"
      ]
     },
     "execution_count": 21,
     "metadata": {},
     "output_type": "execute_result"
    }
   ],
   "source": [
    "hidden_cat['skill_id']"
   ]
  },
  {
   "cell_type": "code",
   "execution_count": 22,
   "metadata": {},
   "outputs": [
    {
     "data": {
      "text/plain": [
       "0     Addition and Subtraction Fractions\n",
       "1                  Distributive Property\n",
       "2     Addition and Subtraction Fractions\n",
       "3     Addition and Subtraction Fractions\n",
       "4     Addition and Subtraction Fractions\n",
       "                     ...                \n",
       "8      Addition and Subtraction Integers\n",
       "9      Addition and Subtraction Integers\n",
       "10     Addition and Subtraction Integers\n",
       "11                Addition Whole Numbers\n",
       "0                  Distributive Property\n",
       "Name: skill_id, Length: 2132526, dtype: object"
      ]
     },
     "execution_count": 22,
     "metadata": {},
     "output_type": "execute_result"
    }
   ],
   "source": [
    "X_a['skill_id'].replace(hidden_cat['skill_id'], inplace=True)"
   ]
  },
  {
   "cell_type": "code",
   "execution_count": 15,
   "metadata": {},
   "outputs": [
    {
     "data": {
      "text/html": [
       "<div>\n",
       "<style scoped>\n",
       "    .dataframe tbody tr th:only-of-type {\n",
       "        vertical-align: middle;\n",
       "    }\n",
       "\n",
       "    .dataframe tbody tr th {\n",
       "        vertical-align: top;\n",
       "    }\n",
       "\n",
       "    .dataframe thead th {\n",
       "        text-align: right;\n",
       "    }\n",
       "</style>\n",
       "<table border=\"1\" class=\"dataframe\">\n",
       "  <thead>\n",
       "    <tr style=\"text-align: right;\">\n",
       "      <th></th>\n",
       "      <th>first_action</th>\n",
       "      <th>skill_id</th>\n",
       "      <th>bottom_hint</th>\n",
       "    </tr>\n",
       "  </thead>\n",
       "  <tbody>\n",
       "    <tr>\n",
       "      <th>0</th>\n",
       "      <td>0</td>\n",
       "      <td>280.0</td>\n",
       "      <td>0.0</td>\n",
       "    </tr>\n",
       "    <tr>\n",
       "      <th>1</th>\n",
       "      <td>0</td>\n",
       "      <td>340.0</td>\n",
       "      <td>0.0</td>\n",
       "    </tr>\n",
       "    <tr>\n",
       "      <th>2</th>\n",
       "      <td>0</td>\n",
       "      <td>280.0</td>\n",
       "      <td>0.0</td>\n",
       "    </tr>\n",
       "    <tr>\n",
       "      <th>3</th>\n",
       "      <td>0</td>\n",
       "      <td>280.0</td>\n",
       "      <td>1.0</td>\n",
       "    </tr>\n",
       "    <tr>\n",
       "      <th>4</th>\n",
       "      <td>0</td>\n",
       "      <td>280.0</td>\n",
       "      <td>0.0</td>\n",
       "    </tr>\n",
       "    <tr>\n",
       "      <th>...</th>\n",
       "      <td>...</td>\n",
       "      <td>...</td>\n",
       "      <td>...</td>\n",
       "    </tr>\n",
       "    <tr>\n",
       "      <th>8</th>\n",
       "      <td>1</td>\n",
       "      <td>277.0</td>\n",
       "      <td>0.0</td>\n",
       "    </tr>\n",
       "    <tr>\n",
       "      <th>9</th>\n",
       "      <td>1</td>\n",
       "      <td>277.0</td>\n",
       "      <td>0.0</td>\n",
       "    </tr>\n",
       "    <tr>\n",
       "      <th>10</th>\n",
       "      <td>0</td>\n",
       "      <td>277.0</td>\n",
       "      <td>0.0</td>\n",
       "    </tr>\n",
       "    <tr>\n",
       "      <th>11</th>\n",
       "      <td>1</td>\n",
       "      <td>58.0</td>\n",
       "      <td>0.0</td>\n",
       "    </tr>\n",
       "    <tr>\n",
       "      <th>0</th>\n",
       "      <td>0</td>\n",
       "      <td>340.0</td>\n",
       "      <td>0.0</td>\n",
       "    </tr>\n",
       "  </tbody>\n",
       "</table>\n",
       "<p>2132526 rows × 3 columns</p>\n",
       "</div>"
      ],
      "text/plain": [
       "    first_action  skill_id  bottom_hint\n",
       "0              0     280.0          0.0\n",
       "1              0     340.0          0.0\n",
       "2              0     280.0          0.0\n",
       "3              0     280.0          1.0\n",
       "4              0     280.0          0.0\n",
       "..           ...       ...          ...\n",
       "8              1     277.0          0.0\n",
       "9              1     277.0          0.0\n",
       "10             0     277.0          0.0\n",
       "11             1      58.0          0.0\n",
       "0              0     340.0          0.0\n",
       "\n",
       "[2132526 rows x 3 columns]"
      ]
     },
     "execution_count": 15,
     "metadata": {},
     "output_type": "execute_result"
    }
   ],
   "source": [
    "X_a[['first_action', 'skill_id', 'bottom_hint']].map[]"
   ]
  },
  {
   "cell_type": "code",
   "execution_count": 54,
   "metadata": {},
   "outputs": [
    {
     "data": {
      "text/plain": [
       "0     Addition and Subtraction Fractions\n",
       "1                  Distributive Property\n",
       "2     Addition and Subtraction Fractions\n",
       "3     Addition and Subtraction Fractions\n",
       "4     Addition and Subtraction Fractions\n",
       "                     ...                \n",
       "8      Addition and Subtraction Integers\n",
       "9      Addition and Subtraction Integers\n",
       "10     Addition and Subtraction Integers\n",
       "11                Addition Whole Numbers\n",
       "0                  Distributive Property\n",
       "Name: skill_id, Length: 2132526, dtype: category\n",
       "Categories (198, object): ['Absolute Value', 'Addition Mixed Fractions', 'Addition Proper Fractions', 'Addition Whole Numbers', ..., 'Write Linear Equation from Situation', 'Write Linear Equation from Slope and y-interc..., 'Writine Expression from Diagrams', 'X-Y Graph Reading']"
      ]
     },
     "execution_count": 54,
     "metadata": {},
     "output_type": "execute_result"
    }
   ],
   "source": [
    "X_a['skill_id'].map([f for f in features if f.name == 'skill_id'][0].value_mapping).astype(\"category\")"
   ]
  },
  {
   "cell_type": "code",
   "execution_count": null,
   "metadata": {},
   "outputs": [],
   "source": [
    "for dataset,identifier in data:\n",
    "    features = get_task_config(identifier).feature_list.features\n",
    "    \n",
    "    categorical_features = [f.name for f in features if f.kind.__name__ == 'CategoricalDtype' and not f.is_target]\n",
    "    numerical_features = [f.name for f in features if f.kind.__name__ != 'CategoricalDtype' and not f.is_target]\n",
    "    "
   ]
  },
  {
   "cell_type": "code",
   "execution_count": 8,
   "metadata": {},
   "outputs": [
    {
     "ename": "NameError",
     "evalue": "name 'data' is not defined",
     "output_type": "error",
     "traceback": [
      "\u001b[0;31m---------------------------------------------------------------------------\u001b[0m",
      "\u001b[0;31mNameError\u001b[0m                                 Traceback (most recent call last)",
      "Cell \u001b[0;32mIn[8], line 1\u001b[0m\n\u001b[0;32m----> 1\u001b[0m identifier \u001b[38;5;241m=\u001b[39m \u001b[43mdata\u001b[49m[\u001b[38;5;241m0\u001b[39m][\u001b[38;5;241m1\u001b[39m]\n\u001b[1;32m      3\u001b[0m features \u001b[38;5;241m=\u001b[39m get_task_config(identifier)\u001b[38;5;241m.\u001b[39mfeature_list\u001b[38;5;241m.\u001b[39mfeatures\n\u001b[1;32m      4\u001b[0m categorical_features \u001b[38;5;241m=\u001b[39m [f\u001b[38;5;241m.\u001b[39mname \u001b[38;5;28;01mfor\u001b[39;00m f \u001b[38;5;129;01min\u001b[39;00m features \u001b[38;5;28;01mif\u001b[39;00m f\u001b[38;5;241m.\u001b[39mkind\u001b[38;5;241m.\u001b[39m\u001b[38;5;18m__name__\u001b[39m \u001b[38;5;241m==\u001b[39m \u001b[38;5;124m'\u001b[39m\u001b[38;5;124mCategoricalDtype\u001b[39m\u001b[38;5;124m'\u001b[39m \u001b[38;5;129;01mand\u001b[39;00m \u001b[38;5;129;01mnot\u001b[39;00m f\u001b[38;5;241m.\u001b[39mis_target]\n",
      "\u001b[0;31mNameError\u001b[0m: name 'data' is not defined"
     ]
    }
   ],
   "source": [
    "identifier = data[0][1]\n",
    "\n",
    "features = get_task_config(identifier).feature_list.features\n",
    "categorical_features = [f.name for f in features if f.kind.__name__ == 'CategoricalDtype' and not f.is_target]\n",
    "numerical_features = [f.name for f in features if f.kind.__name__ != 'CategoricalDtype' and not f.is_target]\n",
    "    "
   ]
  },
  {
   "cell_type": "code",
   "execution_count": 44,
   "metadata": {},
   "outputs": [
    {
     "data": {
      "text/plain": [
       "['problem_type', 'tutor_mode', 'type']"
      ]
     },
     "execution_count": 44,
     "metadata": {},
     "output_type": "execute_result"
    }
   ],
   "source": [
    "categorical_features"
   ]
  },
  {
   "cell_type": "code",
   "execution_count": 58,
   "metadata": {},
   "outputs": [
    {
     "data": {
      "text/plain": [
       "0     fill_in_1\n",
       "1     fill_in_1\n",
       "2     fill_in_1\n",
       "3     fill_in_1\n",
       "4     fill_in_1\n",
       "        ...    \n",
       "8       algebra\n",
       "9       algebra\n",
       "10      algebra\n",
       "11      algebra\n",
       "0       algebra\n",
       "Name: problem_type, Length: 2132526, dtype: object"
      ]
     },
     "execution_count": 58,
     "metadata": {},
     "output_type": "execute_result"
    }
   ],
   "source": [
    "X_a['problem_type']"
   ]
  },
  {
   "cell_type": "code",
   "execution_count": 9,
   "metadata": {},
   "outputs": [
    {
     "data": {
      "text/plain": [
       "['Average_confidence(BORED)',\n",
       " 'Average_confidence(CONCENTRATING)',\n",
       " 'Average_confidence(CONFUSED)',\n",
       " 'Average_confidence(FRUSTRATED)',\n",
       " 'attempt_count',\n",
       " 'hint_count',\n",
       " 'school_id',\n",
       " 'skill_id',\n",
       " 'bottom_hint',\n",
       " 'ms_first_response',\n",
       " 'position',\n",
       " 'overlap_time',\n",
       " 'first_action']"
      ]
     },
     "execution_count": 9,
     "metadata": {},
     "output_type": "execute_result"
    }
   ],
   "source": [
    "numerical_features"
   ]
  },
  {
   "cell_type": "code",
   "execution_count": 37,
   "metadata": {},
   "outputs": [],
   "source": [
    "dset = get_dataset(\n",
    "    name=identifier,\n",
    "    initialize_data=False,\n",
    "    use_cached=True,\n",
    ")\n",
    "\n",
    "X_a, y_a, _, _ = dset.get_pandas('train')\n",
    "X_id, y_id, _, _ = dset.get_pandas('id_test')\n",
    "X_b, y_b, _, _ = dset.get_pandas('ood_test')\n",
    "\n",
    "numerical_features_ = [Fj for Fj in numerical_features if Fj in X_a.columns]\n",
    "categorical_features_ = [Fj for Fj in categorical_features if Fj in X_a.columns]"
   ]
  },
  {
   "cell_type": "code",
   "execution_count": 38,
   "metadata": {},
   "outputs": [],
   "source": [
    "quintiles = KBinsDiscretizer(\n",
    "        n_bins=5, \n",
    "        encode='ordinal', \n",
    "        strategy='quantile', \n",
    "        subsample=200_000, \n",
    "        random_state=0)"
   ]
  },
  {
   "cell_type": "code",
   "execution_count": 43,
   "metadata": {},
   "outputs": [
    {
     "name": "stderr",
     "output_type": "stream",
     "text": [
      "/home/fslab/github/mixed/.venv/lib/python3.9/site-packages/sklearn/preprocessing/_discretization.py:291: UserWarning: Bins whose width are too small (i.e., <= 1e-8) in feature 0 are removed. Consider decreasing the number of bins.\n",
      "  warnings.warn(\n",
      "/home/fslab/github/mixed/.venv/lib/python3.9/site-packages/sklearn/preprocessing/_discretization.py:291: UserWarning: Bins whose width are too small (i.e., <= 1e-8) in feature 1 are removed. Consider decreasing the number of bins.\n",
      "  warnings.warn(\n",
      "/home/fslab/github/mixed/.venv/lib/python3.9/site-packages/sklearn/preprocessing/_discretization.py:291: UserWarning: Bins whose width are too small (i.e., <= 1e-8) in feature 2 are removed. Consider decreasing the number of bins.\n",
      "  warnings.warn(\n",
      "/home/fslab/github/mixed/.venv/lib/python3.9/site-packages/sklearn/preprocessing/_discretization.py:291: UserWarning: Bins whose width are too small (i.e., <= 1e-8) in feature 3 are removed. Consider decreasing the number of bins.\n",
      "  warnings.warn(\n",
      "/home/fslab/github/mixed/.venv/lib/python3.9/site-packages/sklearn/preprocessing/_discretization.py:291: UserWarning: Bins whose width are too small (i.e., <= 1e-8) in feature 4 are removed. Consider decreasing the number of bins.\n",
      "  warnings.warn(\n",
      "/home/fslab/github/mixed/.venv/lib/python3.9/site-packages/sklearn/preprocessing/_discretization.py:291: UserWarning: Bins whose width are too small (i.e., <= 1e-8) in feature 5 are removed. Consider decreasing the number of bins.\n",
      "  warnings.warn(\n",
      "/home/fslab/github/mixed/.venv/lib/python3.9/site-packages/sklearn/preprocessing/_discretization.py:291: UserWarning: Bins whose width are too small (i.e., <= 1e-8) in feature 7 are removed. Consider decreasing the number of bins.\n",
      "  warnings.warn(\n",
      "/home/fslab/github/mixed/.venv/lib/python3.9/site-packages/sklearn/preprocessing/_discretization.py:291: UserWarning: Bins whose width are too small (i.e., <= 1e-8) in feature 11 are removed. Consider decreasing the number of bins.\n",
      "  warnings.warn(\n"
     ]
    },
    {
     "data": {
      "text/plain": [
       "<Axes: ylabel='Frequency'>"
      ]
     },
     "execution_count": 43,
     "metadata": {},
     "output_type": "execute_result"
    },
    {
     "data": {
      "image/png": "[encoded data removed]",
      "text/plain": [
       "<Figure size 640x480 with 1 Axes>"
      ]
     },
     "metadata": {},
     "output_type": "display_data"
    }
   ],
   "source": [
    "pd.DataFrame(quintiles.fit_transform(X_a[numerical_features_]), columns=numerical_features_).plot(kind='hist', stacked=True)"
   ]
  },
  {
   "cell_type": "code",
   "execution_count": 34,
   "metadata": {},
   "outputs": [
    {
     "name": "stderr",
     "output_type": "stream",
     "text": [
      "/home/fslab/github/mixed/.venv/lib/python3.9/site-packages/sklearn/preprocessing/_discretization.py:291: UserWarning: Bins whose width are too small (i.e., <= 1e-8) in feature 0 are removed. Consider decreasing the number of bins.\n",
      "  warnings.warn(\n"
     ]
    },
    {
     "data": {
      "text/plain": [
       "<Axes: ylabel='Frequency'>"
      ]
     },
     "execution_count": 34,
     "metadata": {},
     "output_type": "execute_result"
    },
    {
     "data": {
      "image/png": "[encoded data removed]",
      "text/plain": [
       "<Figure size 640x480 with 1 Axes>"
      ]
     },
     "metadata": {},
     "output_type": "display_data"
    }
   ],
   "source": [
    "pd.DataFrame(quintiles.fit_transform(X_id[['Average_confidence(BORED)']])).plot(kind='hist')"
   ]
  },
  {
   "cell_type": "code",
   "execution_count": 2,
   "metadata": {},
   "outputs": [],
   "source": [
    "import pandas as pd"
   ]
  },
  {
   "cell_type": "code",
   "execution_count": 3,
   "metadata": {},
   "outputs": [],
   "source": [
    "test = pd.read_csv('tmp/nicolaswattiez/skillbuilder-data-2009-2010/2012-2013-data-with-predictions-4-final.csv')"
   ]
  },
  {
   "cell_type": "code",
   "execution_count": 7,
   "metadata": {},
   "outputs": [
    {
     "data": {
      "text/plain": [
       "RangeIndex(start=7, stop=50, step=1)"
      ]
     },
     "execution_count": 7,
     "metadata": {},
     "output_type": "execute_result"
    }
   ],
   "source": [
    "test.index[7:50]"
   ]
  },
  {
   "cell_type": "code",
   "execution_count": 64,
   "metadata": {},
   "outputs": [
    {
     "data": {
      "text/plain": [
       "0          choose_1\n",
       "1           algebra\n",
       "2           algebra\n",
       "3           algebra\n",
       "4          choose_1\n",
       "             ...   \n",
       "6123265    choose_1\n",
       "6123266    choose_1\n",
       "6123267     algebra\n",
       "6123268    choose_1\n",
       "6123269     algebra\n",
       "Name: problem_type, Length: 6123270, dtype: object"
      ]
     },
     "execution_count": 64,
     "metadata": {},
     "output_type": "execute_result"
    }
   ],
   "source": [
    "test['problem_type']"
   ]
  },
  {
   "cell_type": "code",
   "execution_count": 92,
   "metadata": {},
   "outputs": [
    {
     "data": {
      "text/plain": [
       "{1.0: 'Box and Whisker',\n",
       " 2.0: 'Circle Graph',\n",
       " 4.0: 'Histogram as Table or Graph',\n",
       " 5.0: 'Number Line',\n",
       " 6.0: 'Line Plot',\n",
       " 7.0: 'Sampling Techniques',\n",
       " 8.0: 'Scatter Plot',\n",
       " 9.0: 'Stem and Leaf Plot',\n",
       " 10.0: 'Table',\n",
       " 11.0: 'Venn Diagram',\n",
       " 12.0: 'Mean',\n",
       " 13.0: 'Median',\n",
       " 14.0: 'Mode',\n",
       " 15.0: 'Range',\n",
       " 16.0: 'Counting Methods',\n",
       " 17.0: 'Probability of Two Distinct Events',\n",
       " 18.0: 'Probability of a Single Event',\n",
       " 21.0: 'Interior Angles Figures with More than 3 Sides',\n",
       " 22.0: 'Interior Angles Triangle',\n",
       " 24.0: 'Congruence',\n",
       " 25.0: 'Complementary and Supplementary Angles',\n",
       " 26.0: 'Angles on Parallel Lines Cut by a Transversal',\n",
       " 27.0: 'Pythagorean Theorem',\n",
       " 32.0: 'Nets of 3D Figures',\n",
       " 33.0: 'English and Metric Terminology',\n",
       " 34.0: 'Unit Conversion Within a System',\n",
       " 35.0: 'Effect of Changing Dimensions of a Shape Prportionally',\n",
       " 36.0: 'Unit Conversion Standard to Metric',\n",
       " 39.0: 'Area Circle',\n",
       " 40.0: 'Circumference ',\n",
       " 41.0: 'Definition Pi',\n",
       " 42.0: 'Perimeter of a Polygon',\n",
       " 43.0: 'Reading a Ruler or Scale',\n",
       " 46.0: 'Calculations with Similar Figures',\n",
       " 47.0: 'Conversion of Fraction Decimals Percents',\n",
       " 48.0: 'Equivalent Fractions',\n",
       " 49.0: 'Ordering Positive Decimals',\n",
       " 50.0: 'Ordering Fractions',\n",
       " 51.0: 'Ordering Integers',\n",
       " 52.0: 'Ordering Whole Numbers',\n",
       " 53.0: 'Ordering Real Numbers',\n",
       " 54.0: 'Rounding',\n",
       " 58.0: 'Addition Whole Numbers',\n",
       " 61.0: 'Division Fractions',\n",
       " 62.0: 'Division Whole Numbers',\n",
       " 63.0: 'Estimation',\n",
       " 64.0: 'Fraction Of',\n",
       " 65.0: 'Least Common Multiple',\n",
       " 67.0: 'Multiplication Fractions',\n",
       " 69.0: 'Multiplication Whole Numbers',\n",
       " 70.0: 'Percent Of',\n",
       " 74.0: 'Subtraction Whole Numbers',\n",
       " 75.0: 'Square Root',\n",
       " 77.0: 'Finding Percents',\n",
       " 78.0: 'Percent Increase or Decrease',\n",
       " 79.0: 'Proportion',\n",
       " 80.0: 'Scale Factor',\n",
       " 81.0: 'Unit Rate',\n",
       " 82.0: 'Scientific Notation',\n",
       " 83.0: 'Divisibility Rules',\n",
       " 84.0: 'Prime Number',\n",
       " 85.0: 'Absolute Value',\n",
       " 86.0: 'Exponents',\n",
       " 88.0: 'Inverse Relations',\n",
       " 90.0: 'Picking Equation and Inequality from Choices',\n",
       " 92.0: 'Pattern Finding ',\n",
       " 95.0: 'Substitution',\n",
       " 103.0: 'Point Plotting',\n",
       " 106.0: 'Graph Shape',\n",
       " 110.0: 'D.4.8-understanding-concept-of-probabilities',\n",
       " 163.0: 'Absolute Value',\n",
       " 165.0: 'Algebraic Simplification',\n",
       " 166.0: 'Algebraic Solving',\n",
       " 172.0: 'Calculation with + - * /',\n",
       " 173.0: 'Choose an Equation from Given Information',\n",
       " 174.0: 'Circle Graph',\n",
       " 177.0: 'Co-ordinate Points',\n",
       " 178.0: 'Combinatorics',\n",
       " 181.0: 'Exponents',\n",
       " 184.0: 'Geometric Definitions',\n",
       " 186.0: 'Histogram as Table or Graph',\n",
       " 192.0: 'Line of Best-Fit',\n",
       " 196.0: 'Mean',\n",
       " 197.0: 'Mean-Median-Mode-Range Differentiation',\n",
       " 198.0: 'Median',\n",
       " 202.0: 'Pattern Finding',\n",
       " 203.0: 'Percent Discount',\n",
       " 204.0: 'Percents',\n",
       " 206.0: 'Factoring Trinomials',\n",
       " 209.0: 'Properties of Numbers',\n",
       " 212.0: 'Proportion',\n",
       " 213.0: 'Pythagorean Theorem',\n",
       " 214.0: 'Quadratic Equation Solving',\n",
       " 216.0: 'Range',\n",
       " 217.0: 'Rate',\n",
       " 218.0: 'Finding Ratios',\n",
       " 220.0: 'Similar Figures',\n",
       " 222.0: 'Solving Inequalities',\n",
       " 223.0: 'Solving System of Equation',\n",
       " 224.0: 'Square Roots',\n",
       " 226.0: 'Substitution',\n",
       " 230.0: 'Surface Area of 3D Objects',\n",
       " 231.0: 'Symbolization',\n",
       " 233.0: 'Transformation',\n",
       " 238.0: 'Volume of 3D Objects',\n",
       " 240.0: 'X-Y Graph Reading',\n",
       " 276.0: 'Multiplication and Division Positive Decimals',\n",
       " 277.0: 'Addition and Subtraction Integers',\n",
       " 278.0: 'Addition and Subtraction Positive Decimals',\n",
       " 279.0: 'Multiplication and Division Integers',\n",
       " 280.0: 'Addition and Subtraction Fractions',\n",
       " 281.0: 'Properties and Classification Triangles',\n",
       " 282.0: 'Properties and Classification Polygons with 5 or more sides',\n",
       " 283.0: 'Properties and Classification Quadrilaterals',\n",
       " 284.0: 'Properties and Classification Circle',\n",
       " 287.0: 'Properties and Classification Prism',\n",
       " 288.0: 'Properties and Classification Rectangular Prisms',\n",
       " 289.0: 'Line Symmetry',\n",
       " 290.0: 'Reflection',\n",
       " 291.0: 'Rotational Symmetry',\n",
       " 292.0: 'Rotations',\n",
       " 293.0: 'Translations',\n",
       " 294.0: 'Area Irregular Figure',\n",
       " 295.0: 'Area Parallelogram',\n",
       " 296.0: 'Area Rectangle',\n",
       " 297.0: 'Area Trapezoid',\n",
       " 298.0: 'Area Triangle',\n",
       " 299.0: 'Surface Area Cylinder',\n",
       " 300.0: 'Surface Area Pyramid',\n",
       " 301.0: 'Surface Area Rectangular Prism',\n",
       " 302.0: 'Surface Area Sphere',\n",
       " 303.0: 'Volume Cylinder',\n",
       " 304.0: 'Volume Prism',\n",
       " 305.0: 'Volume Cone',\n",
       " 306.0: 'Volume Pyramid',\n",
       " 307.0: 'Volume Rectangular Prism',\n",
       " 308.0: 'Volume Sphere',\n",
       " 309.0: 'Order of Operations +,-,/,* () positive reals',\n",
       " 310.0: 'Order of Operations All',\n",
       " 311.0: 'Equation Solving Two or Fewer Steps',\n",
       " 312.0: 'Equation Solving More Than Two Steps',\n",
       " 313.0: 'Tree Diagrams, Lists for Counting',\n",
       " 314.0: 'Angles - Obtuse, Acute, and Right',\n",
       " 315.0: 'Parallel and Perpendicular Lines',\n",
       " 316.0: 'Expanded, Standard and Word Notation',\n",
       " 317.0: 'Greatest Common Factor',\n",
       " 318.0: 'Multiplication Division by Powers of 10',\n",
       " 319.0: 'Prime Factor',\n",
       " 320.0: 'Equal As Balance Concept',\n",
       " 321.0: 'Computation with Real Numbers',\n",
       " 322.0: 'Write Linear Equation from Ordered Pairs',\n",
       " 323.0: 'Write Linear Equation from Situation',\n",
       " 324.0: 'Recognize Linear Pattern',\n",
       " 325.0: 'Write Linear Equation from Graph',\n",
       " 326.0: 'Write Linear Equation from Slope and y-intercept',\n",
       " 327.0: 'Comparing and Identifying Slope/Rate of Change',\n",
       " 331.0: 'Finding Slope From Situation',\n",
       " 332.0: 'Finding Slope from Graph',\n",
       " 333.0: 'Finding Slope From Equation',\n",
       " 334.0: 'Finding Slope from Ordered Pairs',\n",
       " 336.0: 'Finding y-intercept from Linear Equation',\n",
       " 338.0: 'Combining Like Terms',\n",
       " 339.0: 'Bar Graph',\n",
       " 340.0: 'Distributive Property',\n",
       " 343.0: 'Midpoint',\n",
       " 344.0: 'Distance Formula',\n",
       " 345.0: 'Properties and Clasification of Pyramid',\n",
       " 346.0: 'Polynomial Factors',\n",
       " 348.0: 'Recognize Quadratic Pattern',\n",
       " 350.0: 'Solving Systems of Linear Equations',\n",
       " 354.0: 'Factoring Polynomials Standard',\n",
       " 355.0: 'Solve Quadratic Equations Using Factoring',\n",
       " 356.0: 'Quadratic Formula to Solve Quadratic Equation',\n",
       " 358.0: 'Making a Table from an Equation',\n",
       " 359.0: 'Commutative Property',\n",
       " 360.0: 'Writine Expression from Diagrams',\n",
       " 361.0: 'Recognizing Expressions or Equations from Diagrams',\n",
       " 362.0: 'Parts of a Polyomial, Terms, Coefficient, Monomial, Exponent, Variable',\n",
       " 363.0: 'Multiplying non Monomial Polynomials',\n",
       " 365.0: 'Interpreting Coordinate Graphs ',\n",
       " 366.0: 'Composition of Function Adding',\n",
       " 368.0: 'Solving for a variable',\n",
       " 370.0: 'Recognizing Equivalent Expressions',\n",
       " 371.0: 'Simplifying Expressions positive exponents',\n",
       " 375.0: 'Solving Inequalities',\n",
       " 376.0: 'Graphing Inequalities on a number line',\n",
       " 378.0: 'Solving Systems of Linear Equations by Graphing',\n",
       " 385.0: 'Elapsed Time',\n",
       " 386.0: 'Odd and Even Number',\n",
       " 387.0: 'Perimeter of an Irregular Figure',\n",
       " 388.0: 'Common Multiple',\n",
       " 389.0: 'Common Factor',\n",
       " 390.0: 'Graph Shape',\n",
       " 391.0: 'Graphing Linear Equations',\n",
       " 392.0: 'Surface Area of Prism',\n",
       " 393.0: 'Associative Property',\n",
       " 523.0: 'Picking Expressions From Choices',\n",
       " 568.0: 'Volume Rectangular Prism',\n",
       " 569.0: 'Surface Area Rectangular Prism',\n",
       " 570.0: 'Area Trapezoid',\n",
       " 571.0: 'Area Circle',\n",
       " 572.0: 'Circumference',\n",
       " 573.0: 'Division Mixed Fractions',\n",
       " 574.0: 'Subtraction Mixed Fractions',\n",
       " 575.0: 'Concept Volume',\n",
       " 576.0: 'Area Rectangle',\n",
       " 577.0: 'Nets of 3D Objects',\n",
       " 578.0: 'Area Parallelogram',\n",
       " 579.0: 'Area Triangle',\n",
       " 580.0: 'Exponents',\n",
       " 581.0: 'Circle Concept',\n",
       " 582.0: 'Multiplication Positive Decimals',\n",
       " 583.0: 'Multiplication Mixed Fractions',\n",
       " 584.0: 'Multiplication Proper Fractions',\n",
       " 585.0: 'Division Proper Fractions',\n",
       " 586.0: 'Greatest Common Factor',\n",
       " 587.0: 'Least Common Multiple',\n",
       " 588.0: 'Equivalent Fractions',\n",
       " 589.0: 'Addition Proper Fractions',\n",
       " 590.0: 'Addition Mixed Fractions',\n",
       " 591.0: 'Subtraction Proper Fractions',\n",
       " 592.0: 'Volume Rectangular Prism',\n",
       " 593.0: 'Surface Area Rectangular Prism',\n",
       " 594.0: 'Area Trapezoid',\n",
       " 595.0: 'Area Circle',\n",
       " 596.0: 'Circumference',\n",
       " 597.0: 'Division Mixed Fractions',\n",
       " 598.0: 'Subtraction Mixed Fractions',\n",
       " 599.0: 'Concept Volume',\n",
       " 600.0: 'Area Rectangle',\n",
       " 601.0: 'Area Parallelogram',\n",
       " 602.0: 'Area Triangle',\n",
       " 603.0: 'Exponents',\n",
       " 604.0: 'Circle Concept',\n",
       " 605.0: 'Multiplication Positive Decimals',\n",
       " 606.0: 'Multiplication Mixed Fractions',\n",
       " 607.0: 'Multiplication Proper Fractions',\n",
       " 608.0: 'Division Proper Fractions',\n",
       " 609.0: 'Greatest Common Factor',\n",
       " 610.0: 'Least Common Multiple',\n",
       " 611.0: 'Equivalent Fractions',\n",
       " 612.0: 'Addition Proper Fractions',\n",
       " 613.0: 'Addition Mixed Fractions',\n",
       " 614.0: 'Subtraction Proper Fractions',\n",
       " 1641.0: 'Finding Ratios'}"
      ]
     },
     "execution_count": 92,
     "metadata": {},
     "output_type": "execute_result"
    }
   ],
   "source": [
    "{skill_id: skill for skill_id,skill in test[['skill_id','skill']].drop_duplicates().dropna().sort_values(by='skill_id').values}"
   ]
  }
 ],
 "metadata": {
  "kernelspec": {
   "display_name": ".venv",
   "language": "python",
   "name": "python3"
  },
  "language_info": {
   "codemirror_mode": {
    "name": "ipython",
    "version": 3
   },
   "file_extension": ".py",
   "mimetype": "text/x-python",
   "name": "python",
   "nbconvert_exporter": "python",
   "pygments_lexer": "ipython3",
   "version": "3.9.18"
  }
 },
 "nbformat": 4,
 "nbformat_minor": 2
}
